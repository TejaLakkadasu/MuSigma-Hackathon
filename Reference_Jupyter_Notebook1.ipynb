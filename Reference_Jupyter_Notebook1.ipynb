{
 "cells": [
  {
   "cell_type": "markdown",
   "metadata": {
    "id": "DSO1QSvIvsV9"
   },
   "source": [
    "## Please follow the below structure while attempting the hackathon, make sure to submit only one jupyter file with all the models, and you can always mention your best model by giving it the header as 'Best Model'.\n",
    "\n",
    "## Please make sure to maintain the clarity of analysis in the notebook with proper headers and inisghts/inferences, so that it can be interpretable \n",
    "\n",
    "\n",
    "## Please follow the same format as mentioned below, as you will be evaluated basis on your Jupyter Notebook for L2 selection."
   ]
  },
  {
   "cell_type": "markdown",
   "metadata": {
    "id": "dAcZY0OPvsWB"
   },
   "source": [
    "## Importing Necessary Libraries"
   ]
  },
  {
   "cell_type": "code",
   "execution_count": 41,
   "metadata": {
    "id": "sohlrlztvsWC"
   },
   "outputs": [],
   "source": [
    "import numpy as np\n",
    "import pandas as pd"
   ]
  },
  {
   "cell_type": "code",
   "execution_count": 2,
   "metadata": {
    "colab": {
     "base_uri": "https://localhost:8080/"
    },
    "id": "r4y8g7MOwFqb",
    "outputId": "03b13f61-9e7f-4be3-b20c-ea883b3b60bf"
   },
   "outputs": [
    {
     "ename": "ModuleNotFoundError",
     "evalue": "No module named 'google'",
     "output_type": "error",
     "traceback": [
      "\u001b[1;31m---------------------------------------------------------------------------\u001b[0m",
      "\u001b[1;31mModuleNotFoundError\u001b[0m                       Traceback (most recent call last)",
      "\u001b[1;32m<ipython-input-2-d05fe204dd76>\u001b[0m in \u001b[0;36m<module>\u001b[1;34m\u001b[0m\n\u001b[1;32m----> 1\u001b[1;33m \u001b[1;32mfrom\u001b[0m \u001b[0mgoogle\u001b[0m\u001b[1;33m.\u001b[0m\u001b[0mcolab\u001b[0m \u001b[1;32mimport\u001b[0m \u001b[0mdrive\u001b[0m\u001b[1;33m\u001b[0m\u001b[1;33m\u001b[0m\u001b[0m\n\u001b[0m\u001b[0;32m      2\u001b[0m \u001b[0mdrive\u001b[0m\u001b[1;33m.\u001b[0m\u001b[0mmount\u001b[0m\u001b[1;33m(\u001b[0m\u001b[1;34m'/content/gdrive'\u001b[0m\u001b[1;33m)\u001b[0m\u001b[1;33m\u001b[0m\u001b[1;33m\u001b[0m\u001b[0m\n",
      "\u001b[1;31mModuleNotFoundError\u001b[0m: No module named 'google'"
     ]
    }
   ],
   "source": [
    "from google.colab import drive \n",
    "drive.mount('/content/gdrive')"
   ]
  },
  {
   "cell_type": "code",
   "execution_count": 105,
   "metadata": {
    "id": "dEDsJJaawGXt"
   },
   "outputs": [],
   "source": [
    "df = pd.read_csv('C:/Users/Teja Lakkadasu/Desktop/GREAT LEARNING/Hackathon/Data_Train.csv')\n",
    "df1 = pd.read_csv('C:/Users/Teja Lakkadasu/Desktop/GREAT LEARNING/Hackathon/Data_Test.csv')"
   ]
  },
  {
   "cell_type": "code",
   "execution_count": 106,
   "metadata": {
    "colab": {
     "base_uri": "https://localhost:8080/",
     "height": 421
    },
    "id": "zjnmjSlJwGQ5",
    "outputId": "5479c09d-306a-4f9b-836c-4f8862fad16e"
   },
   "outputs": [
    {
     "data": {
      "text/html": [
       "<div>\n",
       "<style scoped>\n",
       "    .dataframe tbody tr th:only-of-type {\n",
       "        vertical-align: middle;\n",
       "    }\n",
       "\n",
       "    .dataframe tbody tr th {\n",
       "        vertical-align: top;\n",
       "    }\n",
       "\n",
       "    .dataframe thead th {\n",
       "        text-align: right;\n",
       "    }\n",
       "</style>\n",
       "<table border=\"1\" class=\"dataframe\">\n",
       "  <thead>\n",
       "    <tr style=\"text-align: right;\">\n",
       "      <th></th>\n",
       "      <th>ID</th>\n",
       "      <th>Asst_Reg</th>\n",
       "      <th>GGGrade</th>\n",
       "      <th>Experience</th>\n",
       "      <th>Validation</th>\n",
       "      <th>Yearly Income</th>\n",
       "      <th>Home Status</th>\n",
       "      <th>Unpaid 2 years</th>\n",
       "      <th>Already Defaulted</th>\n",
       "      <th>Designation</th>\n",
       "      <th>...</th>\n",
       "      <th>File Status</th>\n",
       "      <th>State</th>\n",
       "      <th>Account Open</th>\n",
       "      <th>Total Unpaid CL</th>\n",
       "      <th>Duration</th>\n",
       "      <th>Unpaid Amount</th>\n",
       "      <th>Reason</th>\n",
       "      <th>Claim Type</th>\n",
       "      <th>Due Fee</th>\n",
       "      <th>Loan/No Loan</th>\n",
       "    </tr>\n",
       "  </thead>\n",
       "  <tbody>\n",
       "    <tr>\n",
       "      <th>0</th>\n",
       "      <td>95074</td>\n",
       "      <td>421802</td>\n",
       "      <td>II</td>\n",
       "      <td>&gt;10yrs</td>\n",
       "      <td>Vfied</td>\n",
       "      <td>633600.00</td>\n",
       "      <td>MOR??AGE</td>\n",
       "      <td>0</td>\n",
       "      <td>0</td>\n",
       "      <td>GLENDALE NISSAN</td>\n",
       "      <td>...</td>\n",
       "      <td>fully paid</td>\n",
       "      <td>California</td>\n",
       "      <td>17</td>\n",
       "      <td>58598.0</td>\n",
       "      <td>3 years</td>\n",
       "      <td>31216.05</td>\n",
       "      <td>debt  consolidation</td>\n",
       "      <td>I</td>\n",
       "      <td>0.0</td>\n",
       "      <td>0</td>\n",
       "    </tr>\n",
       "    <tr>\n",
       "      <th>1</th>\n",
       "      <td>134131</td>\n",
       "      <td>3964312</td>\n",
       "      <td>IV</td>\n",
       "      <td>7yrs</td>\n",
       "      <td>Source Verified</td>\n",
       "      <td>85483.20</td>\n",
       "      <td>REN?</td>\n",
       "      <td>0</td>\n",
       "      <td>0</td>\n",
       "      <td>Business Teacher</td>\n",
       "      <td>...</td>\n",
       "      <td>whole</td>\n",
       "      <td>NC</td>\n",
       "      <td>15</td>\n",
       "      <td>18924.0</td>\n",
       "      <td>5 years</td>\n",
       "      <td>11660.49</td>\n",
       "      <td>debt  consolidation</td>\n",
       "      <td>I</td>\n",
       "      <td>0.0</td>\n",
       "      <td>0</td>\n",
       "    </tr>\n",
       "    <tr>\n",
       "      <th>2</th>\n",
       "      <td>92602</td>\n",
       "      <td>4247560</td>\n",
       "      <td>III</td>\n",
       "      <td>&lt;1yr</td>\n",
       "      <td>Source Verified</td>\n",
       "      <td>79200.00</td>\n",
       "      <td>REN?</td>\n",
       "      <td>0</td>\n",
       "      <td>0</td>\n",
       "      <td>driver</td>\n",
       "      <td>...</td>\n",
       "      <td>whole</td>\n",
       "      <td>Florida</td>\n",
       "      <td>7</td>\n",
       "      <td>15604.0</td>\n",
       "      <td>5 years</td>\n",
       "      <td>5637.87</td>\n",
       "      <td>major  purchase</td>\n",
       "      <td>I</td>\n",
       "      <td>0.0</td>\n",
       "      <td>0</td>\n",
       "    </tr>\n",
       "    <tr>\n",
       "      <th>3</th>\n",
       "      <td>22591</td>\n",
       "      <td>197179</td>\n",
       "      <td>III</td>\n",
       "      <td>&lt;1yr</td>\n",
       "      <td>Vfied</td>\n",
       "      <td>61600.00</td>\n",
       "      <td>REN?</td>\n",
       "      <td>0</td>\n",
       "      <td>0</td>\n",
       "      <td>AvePoint</td>\n",
       "      <td>...</td>\n",
       "      <td>fully paid</td>\n",
       "      <td>NewJersey</td>\n",
       "      <td>9</td>\n",
       "      <td>22410.0</td>\n",
       "      <td>3 years</td>\n",
       "      <td>15607.17</td>\n",
       "      <td>major  purchase</td>\n",
       "      <td>I</td>\n",
       "      <td>0.0</td>\n",
       "      <td>1</td>\n",
       "    </tr>\n",
       "    <tr>\n",
       "      <th>4</th>\n",
       "      <td>125060</td>\n",
       "      <td>4646684</td>\n",
       "      <td>V</td>\n",
       "      <td>2yrs</td>\n",
       "      <td>Source Verified</td>\n",
       "      <td>68053.92</td>\n",
       "      <td>REN?</td>\n",
       "      <td>0</td>\n",
       "      <td>0</td>\n",
       "      <td>Lead Tester</td>\n",
       "      <td>...</td>\n",
       "      <td>fully paid</td>\n",
       "      <td>LA</td>\n",
       "      <td>10</td>\n",
       "      <td>36022.0</td>\n",
       "      <td>5 years</td>\n",
       "      <td>27472.86</td>\n",
       "      <td>debt  consolidation</td>\n",
       "      <td>I</td>\n",
       "      <td>0.0</td>\n",
       "      <td>0</td>\n",
       "    </tr>\n",
       "  </tbody>\n",
       "</table>\n",
       "<p>5 rows × 30 columns</p>\n",
       "</div>"
      ],
      "text/plain": [
       "       ID  Asst_Reg GGGrade Experience       Validation  Yearly Income  \\\n",
       "0   95074    421802      II     >10yrs            Vfied      633600.00   \n",
       "1  134131   3964312      IV       7yrs  Source Verified       85483.20   \n",
       "2   92602   4247560     III       <1yr  Source Verified       79200.00   \n",
       "3   22591    197179     III       <1yr            Vfied       61600.00   \n",
       "4  125060   4646684       V       2yrs  Source Verified       68053.92   \n",
       "\n",
       "  Home Status  Unpaid 2 years  Already Defaulted       Designation  ...  \\\n",
       "0    MOR??AGE               0                  0   GLENDALE NISSAN  ...   \n",
       "1        REN?               0                  0  Business Teacher  ...   \n",
       "2        REN?               0                  0            driver  ...   \n",
       "3        REN?               0                  0          AvePoint  ...   \n",
       "4        REN?               0                  0       Lead Tester  ...   \n",
       "\n",
       "   File Status       State  Account Open  Total Unpaid CL  Duration  \\\n",
       "0   fully paid  California            17          58598.0   3 years   \n",
       "1        whole          NC            15          18924.0   5 years   \n",
       "2        whole     Florida             7          15604.0   5 years   \n",
       "3   fully paid   NewJersey             9          22410.0   3 years   \n",
       "4   fully paid          LA            10          36022.0   5 years   \n",
       "\n",
       "   Unpaid Amount               Reason  Claim Type  Due Fee  Loan/No Loan  \n",
       "0       31216.05  debt  consolidation           I      0.0             0  \n",
       "1       11660.49  debt  consolidation           I      0.0             0  \n",
       "2        5637.87      major  purchase           I      0.0             0  \n",
       "3       15607.17      major  purchase           I      0.0             1  \n",
       "4       27472.86  debt  consolidation           I      0.0             0  \n",
       "\n",
       "[5 rows x 30 columns]"
      ]
     },
     "execution_count": 106,
     "metadata": {},
     "output_type": "execute_result"
    }
   ],
   "source": [
    "df.head()"
   ]
  },
  {
   "cell_type": "code",
   "execution_count": 107,
   "metadata": {
    "colab": {
     "base_uri": "https://localhost:8080/"
    },
    "id": "Vl_2eeuMzaVR",
    "outputId": "84a6d057-0e22-44ab-82f3-ad1320e9027e"
   },
   "outputs": [
    {
     "name": "stdout",
     "output_type": "stream",
     "text": [
      "<class 'pandas.core.frame.DataFrame'>\n",
      "RangeIndex: 87500 entries, 0 to 87499\n",
      "Data columns (total 30 columns):\n",
      " #   Column               Non-Null Count  Dtype  \n",
      "---  ------               --------------  -----  \n",
      " 0   ID                   87500 non-null  int64  \n",
      " 1   Asst_Reg             87500 non-null  int64  \n",
      " 2   GGGrade              87500 non-null  object \n",
      " 3   Experience           87500 non-null  object \n",
      " 4   Validation           87500 non-null  object \n",
      " 5   Yearly Income        81925 non-null  float64\n",
      " 6   Home Status          87500 non-null  object \n",
      " 7   Unpaid 2 years       87500 non-null  int64  \n",
      " 8   Already Defaulted    87500 non-null  int64  \n",
      " 9   Designation          86086 non-null  object \n",
      " 10  Debt to Income       84011 non-null  float64\n",
      " 11  Postal Code          86111 non-null  float64\n",
      " 12  Lend Amount          87500 non-null  float64\n",
      " 13  Deprecatory Records  87500 non-null  int64  \n",
      " 14  Interest Charged     87500 non-null  float64\n",
      " 15  Usage Rate           87500 non-null  float64\n",
      " 16  Inquiries            87500 non-null  int64  \n",
      " 17  Present Balance      87500 non-null  float64\n",
      " 18  Gross Collection     87500 non-null  float64\n",
      " 19  Sub GGGrade          87500 non-null  int64  \n",
      " 20  File Status          87500 non-null  object \n",
      " 21  State                87500 non-null  object \n",
      " 22  Account Open         87500 non-null  int64  \n",
      " 23  Total Unpaid CL      83314 non-null  float64\n",
      " 24  Duration             87500 non-null  object \n",
      " 25  Unpaid Amount        82648 non-null  float64\n",
      " 26  Reason               87500 non-null  object \n",
      " 27  Claim Type           87500 non-null  object \n",
      " 28  Due Fee              87500 non-null  float64\n",
      " 29  Loan/No Loan         87500 non-null  int64  \n",
      "dtypes: float64(11), int64(9), object(10)\n",
      "memory usage: 20.0+ MB\n"
     ]
    }
   ],
   "source": [
    "df.info()"
   ]
  },
  {
   "cell_type": "markdown",
   "metadata": {
    "id": "kxjpQTx_vsWD"
   },
   "source": [
    "## 1 Data Cleaning"
   ]
  },
  {
   "cell_type": "markdown",
   "metadata": {
    "id": "t3_mRJlTvsWE"
   },
   "source": [
    "In this section you can do all the Data cleaning part of all necessary imputations and treatments\n",
    "\n",
    "\n",
    "\n",
    "\n",
    "\n",
    "\n",
    "\n",
    "\n",
    "\n",
    "\n",
    "\n",
    "\n",
    "\n",
    "\n",
    "\n",
    "\n",
    "\n",
    "\n",
    "\n",
    "\n",
    "\n"
   ]
  },
  {
   "cell_type": "code",
   "execution_count": 108,
   "metadata": {
    "id": "qg4jdaZa0nx1"
   },
   "outputs": [],
   "source": [
    "df_num = df.select_dtypes(include = np.number)\n",
    "df_cat = df.select_dtypes(exclude = np.number)"
   ]
  },
  {
   "cell_type": "code",
   "execution_count": 109,
   "metadata": {
    "colab": {
     "base_uri": "https://localhost:8080/",
     "height": 305
    },
    "id": "4VAM1bmT2G0Q",
    "outputId": "ea5d14b7-3e22-4988-ff75-d7aecacc809b"
   },
   "outputs": [
    {
     "data": {
      "text/html": [
       "<div>\n",
       "<style scoped>\n",
       "    .dataframe tbody tr th:only-of-type {\n",
       "        vertical-align: middle;\n",
       "    }\n",
       "\n",
       "    .dataframe tbody tr th {\n",
       "        vertical-align: top;\n",
       "    }\n",
       "\n",
       "    .dataframe thead th {\n",
       "        text-align: right;\n",
       "    }\n",
       "</style>\n",
       "<table border=\"1\" class=\"dataframe\">\n",
       "  <thead>\n",
       "    <tr style=\"text-align: right;\">\n",
       "      <th></th>\n",
       "      <th>ID</th>\n",
       "      <th>Asst_Reg</th>\n",
       "      <th>Yearly Income</th>\n",
       "      <th>Unpaid 2 years</th>\n",
       "      <th>Already Defaulted</th>\n",
       "      <th>Debt to Income</th>\n",
       "      <th>Postal Code</th>\n",
       "      <th>Lend Amount</th>\n",
       "      <th>Deprecatory Records</th>\n",
       "      <th>Interest Charged</th>\n",
       "      <th>Usage Rate</th>\n",
       "      <th>Inquiries</th>\n",
       "      <th>Present Balance</th>\n",
       "      <th>Gross Collection</th>\n",
       "      <th>Sub GGGrade</th>\n",
       "      <th>Account Open</th>\n",
       "      <th>Total Unpaid CL</th>\n",
       "      <th>Unpaid Amount</th>\n",
       "      <th>Due Fee</th>\n",
       "      <th>Loan/No Loan</th>\n",
       "    </tr>\n",
       "  </thead>\n",
       "  <tbody>\n",
       "    <tr>\n",
       "      <th>0</th>\n",
       "      <td>95074</td>\n",
       "      <td>421802</td>\n",
       "      <td>633600.00</td>\n",
       "      <td>0</td>\n",
       "      <td>0</td>\n",
       "      <td>12.5496</td>\n",
       "      <td>91300.0</td>\n",
       "      <td>42023.25</td>\n",
       "      <td>0</td>\n",
       "      <td>15.39</td>\n",
       "      <td>88.924</td>\n",
       "      <td>3</td>\n",
       "      <td>607161.90</td>\n",
       "      <td>0.0</td>\n",
       "      <td>19</td>\n",
       "      <td>17</td>\n",
       "      <td>58598.0</td>\n",
       "      <td>31216.05</td>\n",
       "      <td>0.0</td>\n",
       "      <td>0</td>\n",
       "    </tr>\n",
       "    <tr>\n",
       "      <th>1</th>\n",
       "      <td>134131</td>\n",
       "      <td>3964312</td>\n",
       "      <td>85483.20</td>\n",
       "      <td>0</td>\n",
       "      <td>0</td>\n",
       "      <td>9.0048</td>\n",
       "      <td>27400.0</td>\n",
       "      <td>38133.00</td>\n",
       "      <td>0</td>\n",
       "      <td>9.94</td>\n",
       "      <td>102.856</td>\n",
       "      <td>0</td>\n",
       "      <td>269234.06</td>\n",
       "      <td>0.0</td>\n",
       "      <td>30</td>\n",
       "      <td>15</td>\n",
       "      <td>18924.0</td>\n",
       "      <td>11660.49</td>\n",
       "      <td>0.0</td>\n",
       "      <td>0</td>\n",
       "    </tr>\n",
       "    <tr>\n",
       "      <th>2</th>\n",
       "      <td>92602</td>\n",
       "      <td>4247560</td>\n",
       "      <td>79200.00</td>\n",
       "      <td>0</td>\n",
       "      <td>0</td>\n",
       "      <td>24.9144</td>\n",
       "      <td>32800.0</td>\n",
       "      <td>17100.00</td>\n",
       "      <td>0</td>\n",
       "      <td>22.35</td>\n",
       "      <td>60.372</td>\n",
       "      <td>0</td>\n",
       "      <td>22476.53</td>\n",
       "      <td>0.0</td>\n",
       "      <td>25</td>\n",
       "      <td>7</td>\n",
       "      <td>15604.0</td>\n",
       "      <td>5637.87</td>\n",
       "      <td>0.0</td>\n",
       "      <td>0</td>\n",
       "    </tr>\n",
       "    <tr>\n",
       "      <th>3</th>\n",
       "      <td>22591</td>\n",
       "      <td>197179</td>\n",
       "      <td>61600.00</td>\n",
       "      <td>0</td>\n",
       "      <td>0</td>\n",
       "      <td>16.5816</td>\n",
       "      <td>7000.0</td>\n",
       "      <td>5130.00</td>\n",
       "      <td>0</td>\n",
       "      <td>10.36</td>\n",
       "      <td>116.272</td>\n",
       "      <td>1</td>\n",
       "      <td>15242.09</td>\n",
       "      <td>0.0</td>\n",
       "      <td>22</td>\n",
       "      <td>9</td>\n",
       "      <td>22410.0</td>\n",
       "      <td>15607.17</td>\n",
       "      <td>0.0</td>\n",
       "      <td>1</td>\n",
       "    </tr>\n",
       "    <tr>\n",
       "      <th>4</th>\n",
       "      <td>125060</td>\n",
       "      <td>4646684</td>\n",
       "      <td>68053.92</td>\n",
       "      <td>0</td>\n",
       "      <td>0</td>\n",
       "      <td>40.0512</td>\n",
       "      <td>70800.0</td>\n",
       "      <td>19665.00</td>\n",
       "      <td>0</td>\n",
       "      <td>13.68</td>\n",
       "      <td>127.280</td>\n",
       "      <td>1</td>\n",
       "      <td>65433.94</td>\n",
       "      <td>0.0</td>\n",
       "      <td>32</td>\n",
       "      <td>10</td>\n",
       "      <td>36022.0</td>\n",
       "      <td>27472.86</td>\n",
       "      <td>0.0</td>\n",
       "      <td>0</td>\n",
       "    </tr>\n",
       "  </tbody>\n",
       "</table>\n",
       "</div>"
      ],
      "text/plain": [
       "       ID  Asst_Reg  Yearly Income  Unpaid 2 years  Already Defaulted  \\\n",
       "0   95074    421802      633600.00               0                  0   \n",
       "1  134131   3964312       85483.20               0                  0   \n",
       "2   92602   4247560       79200.00               0                  0   \n",
       "3   22591    197179       61600.00               0                  0   \n",
       "4  125060   4646684       68053.92               0                  0   \n",
       "\n",
       "   Debt to Income  Postal Code  Lend Amount  Deprecatory Records  \\\n",
       "0         12.5496      91300.0     42023.25                    0   \n",
       "1          9.0048      27400.0     38133.00                    0   \n",
       "2         24.9144      32800.0     17100.00                    0   \n",
       "3         16.5816       7000.0      5130.00                    0   \n",
       "4         40.0512      70800.0     19665.00                    0   \n",
       "\n",
       "   Interest Charged  Usage Rate  Inquiries  Present Balance  Gross Collection  \\\n",
       "0             15.39      88.924          3        607161.90               0.0   \n",
       "1              9.94     102.856          0        269234.06               0.0   \n",
       "2             22.35      60.372          0         22476.53               0.0   \n",
       "3             10.36     116.272          1         15242.09               0.0   \n",
       "4             13.68     127.280          1         65433.94               0.0   \n",
       "\n",
       "   Sub GGGrade  Account Open  Total Unpaid CL  Unpaid Amount  Due Fee  \\\n",
       "0           19            17          58598.0       31216.05      0.0   \n",
       "1           30            15          18924.0       11660.49      0.0   \n",
       "2           25             7          15604.0        5637.87      0.0   \n",
       "3           22             9          22410.0       15607.17      0.0   \n",
       "4           32            10          36022.0       27472.86      0.0   \n",
       "\n",
       "   Loan/No Loan  \n",
       "0             0  \n",
       "1             0  \n",
       "2             0  \n",
       "3             1  \n",
       "4             0  "
      ]
     },
     "execution_count": 109,
     "metadata": {},
     "output_type": "execute_result"
    }
   ],
   "source": [
    "df_num.head()"
   ]
  },
  {
   "cell_type": "code",
   "execution_count": 110,
   "metadata": {
    "colab": {
     "base_uri": "https://localhost:8080/",
     "height": 206
    },
    "id": "t0j_S4SY2Gsd",
    "outputId": "f77f12f4-a9f2-442d-ffd8-04e103c0c135"
   },
   "outputs": [
    {
     "data": {
      "text/html": [
       "<div>\n",
       "<style scoped>\n",
       "    .dataframe tbody tr th:only-of-type {\n",
       "        vertical-align: middle;\n",
       "    }\n",
       "\n",
       "    .dataframe tbody tr th {\n",
       "        vertical-align: top;\n",
       "    }\n",
       "\n",
       "    .dataframe thead th {\n",
       "        text-align: right;\n",
       "    }\n",
       "</style>\n",
       "<table border=\"1\" class=\"dataframe\">\n",
       "  <thead>\n",
       "    <tr style=\"text-align: right;\">\n",
       "      <th></th>\n",
       "      <th>GGGrade</th>\n",
       "      <th>Experience</th>\n",
       "      <th>Validation</th>\n",
       "      <th>Home Status</th>\n",
       "      <th>Designation</th>\n",
       "      <th>File Status</th>\n",
       "      <th>State</th>\n",
       "      <th>Duration</th>\n",
       "      <th>Reason</th>\n",
       "      <th>Claim Type</th>\n",
       "    </tr>\n",
       "  </thead>\n",
       "  <tbody>\n",
       "    <tr>\n",
       "      <th>0</th>\n",
       "      <td>II</td>\n",
       "      <td>&gt;10yrs</td>\n",
       "      <td>Vfied</td>\n",
       "      <td>MOR??AGE</td>\n",
       "      <td>GLENDALE NISSAN</td>\n",
       "      <td>fully paid</td>\n",
       "      <td>California</td>\n",
       "      <td>3 years</td>\n",
       "      <td>debt  consolidation</td>\n",
       "      <td>I</td>\n",
       "    </tr>\n",
       "    <tr>\n",
       "      <th>1</th>\n",
       "      <td>IV</td>\n",
       "      <td>7yrs</td>\n",
       "      <td>Source Verified</td>\n",
       "      <td>REN?</td>\n",
       "      <td>Business Teacher</td>\n",
       "      <td>whole</td>\n",
       "      <td>NC</td>\n",
       "      <td>5 years</td>\n",
       "      <td>debt  consolidation</td>\n",
       "      <td>I</td>\n",
       "    </tr>\n",
       "    <tr>\n",
       "      <th>2</th>\n",
       "      <td>III</td>\n",
       "      <td>&lt;1yr</td>\n",
       "      <td>Source Verified</td>\n",
       "      <td>REN?</td>\n",
       "      <td>driver</td>\n",
       "      <td>whole</td>\n",
       "      <td>Florida</td>\n",
       "      <td>5 years</td>\n",
       "      <td>major  purchase</td>\n",
       "      <td>I</td>\n",
       "    </tr>\n",
       "    <tr>\n",
       "      <th>3</th>\n",
       "      <td>III</td>\n",
       "      <td>&lt;1yr</td>\n",
       "      <td>Vfied</td>\n",
       "      <td>REN?</td>\n",
       "      <td>AvePoint</td>\n",
       "      <td>fully paid</td>\n",
       "      <td>NewJersey</td>\n",
       "      <td>3 years</td>\n",
       "      <td>major  purchase</td>\n",
       "      <td>I</td>\n",
       "    </tr>\n",
       "    <tr>\n",
       "      <th>4</th>\n",
       "      <td>V</td>\n",
       "      <td>2yrs</td>\n",
       "      <td>Source Verified</td>\n",
       "      <td>REN?</td>\n",
       "      <td>Lead Tester</td>\n",
       "      <td>fully paid</td>\n",
       "      <td>LA</td>\n",
       "      <td>5 years</td>\n",
       "      <td>debt  consolidation</td>\n",
       "      <td>I</td>\n",
       "    </tr>\n",
       "  </tbody>\n",
       "</table>\n",
       "</div>"
      ],
      "text/plain": [
       "  GGGrade Experience       Validation Home Status       Designation  \\\n",
       "0      II     >10yrs            Vfied    MOR??AGE   GLENDALE NISSAN   \n",
       "1      IV       7yrs  Source Verified        REN?  Business Teacher   \n",
       "2     III       <1yr  Source Verified        REN?            driver   \n",
       "3     III       <1yr            Vfied        REN?          AvePoint   \n",
       "4       V       2yrs  Source Verified        REN?       Lead Tester   \n",
       "\n",
       "  File Status       State Duration               Reason Claim Type  \n",
       "0  fully paid  California  3 years  debt  consolidation          I  \n",
       "1       whole          NC  5 years  debt  consolidation          I  \n",
       "2       whole     Florida  5 years      major  purchase          I  \n",
       "3  fully paid   NewJersey  3 years      major  purchase          I  \n",
       "4  fully paid          LA  5 years  debt  consolidation          I  "
      ]
     },
     "execution_count": 110,
     "metadata": {},
     "output_type": "execute_result"
    }
   ],
   "source": [
    "df_cat.head()"
   ]
  },
  {
   "cell_type": "code",
   "execution_count": null,
   "metadata": {
    "id": "ifJWSGnM4F7I"
   },
   "outputs": [],
   "source": []
  },
  {
   "cell_type": "code",
   "execution_count": null,
   "metadata": {
    "id": "jScFUCDR3YlI"
   },
   "outputs": [],
   "source": []
  },
  {
   "cell_type": "code",
   "execution_count": 111,
   "metadata": {
    "colab": {
     "base_uri": "https://localhost:8080/"
    },
    "id": "3HnIixp52Gnb",
    "outputId": "94675d26-2382-4854-b7bb-cbeb5b608b19"
   },
   "outputs": [
    {
     "name": "stdout",
     "output_type": "stream",
     "text": [
      "GGGrade\n",
      "7\n",
      "['II' 'IV' 'III' 'V' 'VII' 'VI' 'I']\n",
      "\n",
      "\n",
      "Experience\n",
      "11\n",
      "['>10yrs' '7yrs' '<1yr' '2yrs' '1yrs' '4yrs' '9yrs' '6yrs' '5yrs' '8yrs'\n",
      " '3yrs']\n",
      "\n",
      "\n",
      "Validation\n",
      "3\n",
      "['Vfied' 'Source Verified' 'Not Vfied']\n",
      "\n",
      "\n",
      "Home Status\n",
      "5\n",
      "['MOR??AGE' 'REN?' 'OWN' 'OTHER' 'NONE']\n",
      "\n",
      "\n",
      "Designation\n",
      "40354\n",
      "['GLENDALE NISSAN' 'Business Teacher' 'driver' ... 'Interface Coordinator'\n",
      " 'PARTS CLERK' 'Outside sales rep']\n",
      "\n",
      "\n",
      "File Status\n",
      "2\n",
      "['fully paid' 'whole']\n",
      "\n",
      "\n",
      "State\n",
      "49\n",
      "['California' 'NC' 'Florida' 'NewJersey' 'LA' 'TX' 'CT' 'MI' 'OR' 'AR'\n",
      " 'Newyork' 'MT' 'CO' 'Ohio' 'NM' 'MN' 'GA' 'WA' 'Maryland' 'AL' 'SC' 'PA'\n",
      " 'AZ' 'UT' 'MA' 'VA' 'IL' 'WI' 'NV' 'HI' 'RI' 'TN' 'OK' 'VT' 'IN' 'AK'\n",
      " 'MO' 'NE' 'NH' 'DC' 'WV' 'MS' 'KY' 'KS' 'DE' 'ND' 'SD' 'WY' 'ME']\n",
      "\n",
      "\n",
      "Duration\n",
      "2\n",
      "['3 years' '5 years']\n",
      "\n",
      "\n",
      "Reason\n",
      "13\n",
      "['debt  consolidation' 'major  purchase' 'other' 'credit  card' 'car'\n",
      " 'home  improvement' 'small  business' 'moving' 'vacation' 'medical'\n",
      " 'wedding' 'house' 'renewable  energy']\n",
      "\n",
      "\n",
      "Claim Type\n",
      "2\n",
      "['I' 'J']\n",
      "\n",
      "\n"
     ]
    }
   ],
   "source": [
    "for i in df_cat.columns:\n",
    "  print(i)\n",
    "  print(df[i].nunique())\n",
    "  print(df[i].unique())\n",
    "  print('\\n')"
   ]
  },
  {
   "cell_type": "code",
   "execution_count": 112,
   "metadata": {
    "id": "2LxLIUqrAJFY"
   },
   "outputs": [],
   "source": [
    "# Import label encoder\n",
    "from sklearn import preprocessing\n",
    "  \n",
    "# label_encoder object knows how to understand word labels.\n",
    "label_encoder = preprocessing.LabelEncoder()"
   ]
  },
  {
   "cell_type": "code",
   "execution_count": 113,
   "metadata": {
    "id": "YVus9pll3wf3"
   },
   "outputs": [],
   "source": [
    "df.GGGrade.replace({'I':1 , 'II':2 , 'III':3 , 'IV':4 , 'V':5 , 'VI':6 , 'VII':7} , inplace = True)\n",
    "\n",
    "df.Experience.replace({'>10yrs':10  , '7yrs':7 , '<1yr' : 0.5,'2yrs':2 ,  '1yrs':1, '4yrs':4, '9yrs':9, '6yrs':6, '5yrs':5, '8yrs':8,'3yrs':3} , inplace = True)\n",
    "\n",
    "#df.Validation.replace({'Vfied':1, 'Source Verified' :0,'Not Vfied':1} , inplace = True)\n",
    "\n",
    "#df['Home Status'].replace({'MOR??AGE':1, 'REN?':1, 'OWN':2, 'OTHER':3 ,'NONE':4} , inplace = True)\n",
    "\n",
    "df['Claim Type'].replace({'I':1 , 'J':2} , inplace = True)\n",
    "\n",
    "df.Duration.replace({'3 years':3 , '5 years':5} , inplace = True)\n",
    "\n",
    "df['File Status'].replace({'fully paid':0 , 'whole':1} , inplace = True)\n",
    "\n",
    "#df['Designation'] = label_encoder.fit_transform(df['Designation'])"
   ]
  },
  {
   "cell_type": "code",
   "execution_count": 114,
   "metadata": {},
   "outputs": [],
   "source": [
    "df1.GGGrade.replace({'I':1 , 'II':2 , 'III':3 , 'IV':4 , 'V':5 , 'VI':6 , 'VII':7} , inplace = True)\n",
    "\n",
    "df1.Experience.replace({'>10yrs':10  , '7yrs':7 , '<1yr' : 0.5,'2yrs':2 ,  '1yrs':1, '4yrs':4, '9yrs':9, '6yrs':6, '5yrs':5, '8yrs':8,'3yrs':3} , inplace = True)\n",
    "\n",
    "#df.Validation.replace({'Vfied':1, 'Source Verified' :0,'Not Vfied':1} , inplace = True)\n",
    "\n",
    "#df['Home Status'].replace({'MOR??AGE':1, 'REN?':1, 'OWN':2, 'OTHER':3 ,'NONE':4} , inplace = True)\n",
    "\n",
    "df1['Claim Type'].replace({'I':1 , 'J':2} , inplace = True)\n",
    "\n",
    "df1.Duration.replace({'3 years':3 , '5 years':5} , inplace = True)\n",
    "\n",
    "df1['File Status'].replace({'fully paid':0 , 'whole':1} , inplace = True)\n",
    "\n",
    "#df['Designation'] = label_encoder.fit_transform(df['Designation'])"
   ]
  },
  {
   "cell_type": "code",
   "execution_count": 115,
   "metadata": {
    "id": "Oi67ebOpzgiE"
   },
   "outputs": [],
   "source": [
    "df = pd.get_dummies(df , columns = ['Home Status' , 'Validation'] , drop_first = True)\n",
    "df1 = pd.get_dummies(df1 , columns = ['Home Status' , 'Validation'] , drop_first = True)"
   ]
  },
  {
   "cell_type": "code",
   "execution_count": 116,
   "metadata": {},
   "outputs": [
    {
     "data": {
      "text/html": [
       "<div>\n",
       "<style scoped>\n",
       "    .dataframe tbody tr th:only-of-type {\n",
       "        vertical-align: middle;\n",
       "    }\n",
       "\n",
       "    .dataframe tbody tr th {\n",
       "        vertical-align: top;\n",
       "    }\n",
       "\n",
       "    .dataframe thead th {\n",
       "        text-align: right;\n",
       "    }\n",
       "</style>\n",
       "<table border=\"1\" class=\"dataframe\">\n",
       "  <thead>\n",
       "    <tr style=\"text-align: right;\">\n",
       "      <th></th>\n",
       "      <th>ID</th>\n",
       "      <th>Asst_Reg</th>\n",
       "      <th>GGGrade</th>\n",
       "      <th>Experience</th>\n",
       "      <th>Yearly Income</th>\n",
       "      <th>Unpaid 2 years</th>\n",
       "      <th>Already Defaulted</th>\n",
       "      <th>Designation</th>\n",
       "      <th>Debt to Income</th>\n",
       "      <th>Postal Code</th>\n",
       "      <th>...</th>\n",
       "      <th>Reason</th>\n",
       "      <th>Claim Type</th>\n",
       "      <th>Due Fee</th>\n",
       "      <th>Loan/No Loan</th>\n",
       "      <th>Home Status_NONE</th>\n",
       "      <th>Home Status_OTHER</th>\n",
       "      <th>Home Status_OWN</th>\n",
       "      <th>Home Status_REN?</th>\n",
       "      <th>Validation_Source Verified</th>\n",
       "      <th>Validation_Vfied</th>\n",
       "    </tr>\n",
       "  </thead>\n",
       "  <tbody>\n",
       "    <tr>\n",
       "      <th>0</th>\n",
       "      <td>95074</td>\n",
       "      <td>421802</td>\n",
       "      <td>2</td>\n",
       "      <td>10.0</td>\n",
       "      <td>633600.00</td>\n",
       "      <td>0</td>\n",
       "      <td>0</td>\n",
       "      <td>GLENDALE NISSAN</td>\n",
       "      <td>12.5496</td>\n",
       "      <td>91300.0</td>\n",
       "      <td>...</td>\n",
       "      <td>debt  consolidation</td>\n",
       "      <td>1</td>\n",
       "      <td>0.0</td>\n",
       "      <td>0</td>\n",
       "      <td>0</td>\n",
       "      <td>0</td>\n",
       "      <td>0</td>\n",
       "      <td>0</td>\n",
       "      <td>0</td>\n",
       "      <td>1</td>\n",
       "    </tr>\n",
       "    <tr>\n",
       "      <th>1</th>\n",
       "      <td>134131</td>\n",
       "      <td>3964312</td>\n",
       "      <td>4</td>\n",
       "      <td>7.0</td>\n",
       "      <td>85483.20</td>\n",
       "      <td>0</td>\n",
       "      <td>0</td>\n",
       "      <td>Business Teacher</td>\n",
       "      <td>9.0048</td>\n",
       "      <td>27400.0</td>\n",
       "      <td>...</td>\n",
       "      <td>debt  consolidation</td>\n",
       "      <td>1</td>\n",
       "      <td>0.0</td>\n",
       "      <td>0</td>\n",
       "      <td>0</td>\n",
       "      <td>0</td>\n",
       "      <td>0</td>\n",
       "      <td>1</td>\n",
       "      <td>1</td>\n",
       "      <td>0</td>\n",
       "    </tr>\n",
       "    <tr>\n",
       "      <th>2</th>\n",
       "      <td>92602</td>\n",
       "      <td>4247560</td>\n",
       "      <td>3</td>\n",
       "      <td>0.5</td>\n",
       "      <td>79200.00</td>\n",
       "      <td>0</td>\n",
       "      <td>0</td>\n",
       "      <td>driver</td>\n",
       "      <td>24.9144</td>\n",
       "      <td>32800.0</td>\n",
       "      <td>...</td>\n",
       "      <td>major  purchase</td>\n",
       "      <td>1</td>\n",
       "      <td>0.0</td>\n",
       "      <td>0</td>\n",
       "      <td>0</td>\n",
       "      <td>0</td>\n",
       "      <td>0</td>\n",
       "      <td>1</td>\n",
       "      <td>1</td>\n",
       "      <td>0</td>\n",
       "    </tr>\n",
       "    <tr>\n",
       "      <th>3</th>\n",
       "      <td>22591</td>\n",
       "      <td>197179</td>\n",
       "      <td>3</td>\n",
       "      <td>0.5</td>\n",
       "      <td>61600.00</td>\n",
       "      <td>0</td>\n",
       "      <td>0</td>\n",
       "      <td>AvePoint</td>\n",
       "      <td>16.5816</td>\n",
       "      <td>7000.0</td>\n",
       "      <td>...</td>\n",
       "      <td>major  purchase</td>\n",
       "      <td>1</td>\n",
       "      <td>0.0</td>\n",
       "      <td>1</td>\n",
       "      <td>0</td>\n",
       "      <td>0</td>\n",
       "      <td>0</td>\n",
       "      <td>1</td>\n",
       "      <td>0</td>\n",
       "      <td>1</td>\n",
       "    </tr>\n",
       "    <tr>\n",
       "      <th>4</th>\n",
       "      <td>125060</td>\n",
       "      <td>4646684</td>\n",
       "      <td>5</td>\n",
       "      <td>2.0</td>\n",
       "      <td>68053.92</td>\n",
       "      <td>0</td>\n",
       "      <td>0</td>\n",
       "      <td>Lead Tester</td>\n",
       "      <td>40.0512</td>\n",
       "      <td>70800.0</td>\n",
       "      <td>...</td>\n",
       "      <td>debt  consolidation</td>\n",
       "      <td>1</td>\n",
       "      <td>0.0</td>\n",
       "      <td>0</td>\n",
       "      <td>0</td>\n",
       "      <td>0</td>\n",
       "      <td>0</td>\n",
       "      <td>1</td>\n",
       "      <td>1</td>\n",
       "      <td>0</td>\n",
       "    </tr>\n",
       "  </tbody>\n",
       "</table>\n",
       "<p>5 rows × 34 columns</p>\n",
       "</div>"
      ],
      "text/plain": [
       "       ID  Asst_Reg  GGGrade  Experience  Yearly Income  Unpaid 2 years  \\\n",
       "0   95074    421802        2        10.0      633600.00               0   \n",
       "1  134131   3964312        4         7.0       85483.20               0   \n",
       "2   92602   4247560        3         0.5       79200.00               0   \n",
       "3   22591    197179        3         0.5       61600.00               0   \n",
       "4  125060   4646684        5         2.0       68053.92               0   \n",
       "\n",
       "   Already Defaulted       Designation  Debt to Income  Postal Code  ...  \\\n",
       "0                  0   GLENDALE NISSAN         12.5496      91300.0  ...   \n",
       "1                  0  Business Teacher          9.0048      27400.0  ...   \n",
       "2                  0            driver         24.9144      32800.0  ...   \n",
       "3                  0          AvePoint         16.5816       7000.0  ...   \n",
       "4                  0       Lead Tester         40.0512      70800.0  ...   \n",
       "\n",
       "                Reason  Claim Type  Due Fee  Loan/No Loan  Home Status_NONE  \\\n",
       "0  debt  consolidation           1      0.0             0                 0   \n",
       "1  debt  consolidation           1      0.0             0                 0   \n",
       "2      major  purchase           1      0.0             0                 0   \n",
       "3      major  purchase           1      0.0             1                 0   \n",
       "4  debt  consolidation           1      0.0             0                 0   \n",
       "\n",
       "   Home Status_OTHER  Home Status_OWN  Home Status_REN?  \\\n",
       "0                  0                0                 0   \n",
       "1                  0                0                 1   \n",
       "2                  0                0                 1   \n",
       "3                  0                0                 1   \n",
       "4                  0                0                 1   \n",
       "\n",
       "   Validation_Source Verified Validation_Vfied  \n",
       "0                           0                1  \n",
       "1                           1                0  \n",
       "2                           1                0  \n",
       "3                           0                1  \n",
       "4                           1                0  \n",
       "\n",
       "[5 rows x 34 columns]"
      ]
     },
     "execution_count": 116,
     "metadata": {},
     "output_type": "execute_result"
    }
   ],
   "source": [
    "df.head()"
   ]
  },
  {
   "cell_type": "code",
   "execution_count": 117,
   "metadata": {
    "colab": {
     "base_uri": "https://localhost:8080/"
    },
    "id": "PJnBC0mk0ItM",
    "outputId": "15f333e4-d35a-4256-dcfa-1468542816cc"
   },
   "outputs": [
    {
     "data": {
      "text/plain": [
       "Index(['ID', 'Asst_Reg', 'GGGrade', 'Experience', 'Yearly Income',\n",
       "       'Unpaid 2 years', 'Already Defaulted', 'Designation', 'Debt to Income',\n",
       "       'Postal Code', 'Lend Amount', 'Deprecatory Records', 'Interest Charged',\n",
       "       'Usage Rate', 'Inquiries', 'Present Balance', 'Gross Collection',\n",
       "       'Sub GGGrade', 'File Status', 'State', 'Account Open',\n",
       "       'Total Unpaid CL', 'Duration', 'Unpaid Amount', 'Reason', 'Claim Type',\n",
       "       'Due Fee', 'Loan/No Loan', 'Home Status_NONE', 'Home Status_OTHER',\n",
       "       'Home Status_OWN', 'Home Status_REN?', 'Validation_Source Verified',\n",
       "       'Validation_Vfied'],\n",
       "      dtype='object')"
      ]
     },
     "execution_count": 117,
     "metadata": {},
     "output_type": "execute_result"
    }
   ],
   "source": [
    "df.columns"
   ]
  },
  {
   "cell_type": "code",
   "execution_count": 118,
   "metadata": {
    "id": "TYxgannr8bsq"
   },
   "outputs": [],
   "source": [
    "df.drop(['Designation'] , inplace = True ,axis = 1)\n",
    "df1.drop(['Designation'] , inplace = True ,axis = 1)"
   ]
  },
  {
   "cell_type": "code",
   "execution_count": 119,
   "metadata": {
    "id": "yH2dnwIrAchl"
   },
   "outputs": [],
   "source": [
    "label_encoder = preprocessing.LabelEncoder()\n",
    "df['State'] = label_encoder.fit_transform(df['State'])\n",
    "df['Reason'] = label_encoder.fit_transform(df['Reason'])\n",
    "label_encoder = preprocessing.LabelEncoder()\n",
    "df1['State'] = label_encoder.fit_transform(df1['State'])\n",
    "df1['Reason'] = label_encoder.fit_transform(df1['Reason'])"
   ]
  },
  {
   "cell_type": "code",
   "execution_count": 71,
   "metadata": {
    "colab": {
     "base_uri": "https://localhost:8080/"
    },
    "id": "opxis_LjAzOw",
    "outputId": "a43fbc1b-c4d9-4738-ed57-6f15a1f1e8c7"
   },
   "outputs": [
    {
     "name": "stdout",
     "output_type": "stream",
     "text": [
      "<class 'pandas.core.frame.DataFrame'>\n",
      "RangeIndex: 87500 entries, 0 to 87499\n",
      "Data columns (total 33 columns):\n",
      " #   Column                      Non-Null Count  Dtype  \n",
      "---  ------                      --------------  -----  \n",
      " 0   ID                          87500 non-null  int64  \n",
      " 1   Asst_Reg                    87500 non-null  int64  \n",
      " 2   GGGrade                     87500 non-null  int64  \n",
      " 3   Experience                  87500 non-null  float64\n",
      " 4   Yearly Income               81925 non-null  float64\n",
      " 5   Unpaid 2 years              87500 non-null  int64  \n",
      " 6   Already Defaulted           87500 non-null  int64  \n",
      " 7   Debt to Income              84011 non-null  float64\n",
      " 8   Postal Code                 86111 non-null  float64\n",
      " 9   Lend Amount                 87500 non-null  float64\n",
      " 10  Deprecatory Records         87500 non-null  int64  \n",
      " 11  Interest Charged            87500 non-null  float64\n",
      " 12  Usage Rate                  87500 non-null  float64\n",
      " 13  Inquiries                   87500 non-null  int64  \n",
      " 14  Present Balance             87500 non-null  float64\n",
      " 15  Gross Collection            87500 non-null  float64\n",
      " 16  Sub GGGrade                 87500 non-null  int64  \n",
      " 17  File Status                 87500 non-null  int64  \n",
      " 18  State                       87500 non-null  int32  \n",
      " 19  Account Open                87500 non-null  int64  \n",
      " 20  Total Unpaid CL             83314 non-null  float64\n",
      " 21  Duration                    87500 non-null  int64  \n",
      " 22  Unpaid Amount               82648 non-null  float64\n",
      " 23  Reason                      87500 non-null  int32  \n",
      " 24  Claim Type                  87500 non-null  int64  \n",
      " 25  Due Fee                     87500 non-null  float64\n",
      " 26  Loan/No Loan                87500 non-null  int64  \n",
      " 27  Home Status_NONE            87500 non-null  uint8  \n",
      " 28  Home Status_OTHER           87500 non-null  uint8  \n",
      " 29  Home Status_OWN             87500 non-null  uint8  \n",
      " 30  Home Status_REN?            87500 non-null  uint8  \n",
      " 31  Validation_Source Verified  87500 non-null  uint8  \n",
      " 32  Validation_Vfied            87500 non-null  uint8  \n",
      "dtypes: float64(12), int32(2), int64(13), uint8(6)\n",
      "memory usage: 17.9 MB\n"
     ]
    }
   ],
   "source": [
    "df.info()"
   ]
  },
  {
   "cell_type": "code",
   "execution_count": 72,
   "metadata": {
    "colab": {
     "base_uri": "https://localhost:8080/"
    },
    "id": "fkiCiuy78u_E",
    "outputId": "e0062d16-be94-4368-bbab-2e9a49694896"
   },
   "outputs": [
    {
     "data": {
      "text/plain": [
       "ID                            0.000000\n",
       "Asst_Reg                      0.000000\n",
       "GGGrade                       0.000000\n",
       "Experience                    0.000000\n",
       "Yearly Income                 6.371429\n",
       "Unpaid 2 years                0.000000\n",
       "Already Defaulted             0.000000\n",
       "Debt to Income                3.987429\n",
       "Postal Code                   1.587429\n",
       "Lend Amount                   0.000000\n",
       "Deprecatory Records           0.000000\n",
       "Interest Charged              0.000000\n",
       "Usage Rate                    0.000000\n",
       "Inquiries                     0.000000\n",
       "Present Balance               0.000000\n",
       "Gross Collection              0.000000\n",
       "Sub GGGrade                   0.000000\n",
       "File Status                   0.000000\n",
       "State                         0.000000\n",
       "Account Open                  0.000000\n",
       "Total Unpaid CL               4.784000\n",
       "Duration                      0.000000\n",
       "Unpaid Amount                 5.545143\n",
       "Reason                        0.000000\n",
       "Claim Type                    0.000000\n",
       "Due Fee                       0.000000\n",
       "Loan/No Loan                  0.000000\n",
       "Home Status_NONE              0.000000\n",
       "Home Status_OTHER             0.000000\n",
       "Home Status_OWN               0.000000\n",
       "Home Status_REN?              0.000000\n",
       "Validation_Source Verified    0.000000\n",
       "Validation_Vfied              0.000000\n",
       "dtype: float64"
      ]
     },
     "execution_count": 72,
     "metadata": {},
     "output_type": "execute_result"
    }
   ],
   "source": [
    "df.isnull().sum()/df.shape[0]*100"
   ]
  },
  {
   "cell_type": "code",
   "execution_count": 120,
   "metadata": {
    "id": "iBVMO0Vq-ZQ4"
   },
   "outputs": [],
   "source": [
    "df.fillna(df.mean() , inplace = True)\n",
    "\n",
    "df1.fillna(df1.mean() , inplace = True)"
   ]
  },
  {
   "cell_type": "code",
   "execution_count": 74,
   "metadata": {
    "colab": {
     "base_uri": "https://localhost:8080/"
    },
    "id": "1N6JvO7zBT7p",
    "outputId": "d569861b-23fa-4327-f8f7-39950d0760a9"
   },
   "outputs": [
    {
     "data": {
      "text/plain": [
       "ID                            0.0\n",
       "Asst_Reg                      0.0\n",
       "GGGrade                       0.0\n",
       "Experience                    0.0\n",
       "Yearly Income                 0.0\n",
       "Unpaid 2 years                0.0\n",
       "Already Defaulted             0.0\n",
       "Debt to Income                0.0\n",
       "Postal Code                   0.0\n",
       "Lend Amount                   0.0\n",
       "Deprecatory Records           0.0\n",
       "Interest Charged              0.0\n",
       "Usage Rate                    0.0\n",
       "Inquiries                     0.0\n",
       "Present Balance               0.0\n",
       "Gross Collection              0.0\n",
       "Sub GGGrade                   0.0\n",
       "File Status                   0.0\n",
       "State                         0.0\n",
       "Account Open                  0.0\n",
       "Total Unpaid CL               0.0\n",
       "Duration                      0.0\n",
       "Unpaid Amount                 0.0\n",
       "Reason                        0.0\n",
       "Claim Type                    0.0\n",
       "Due Fee                       0.0\n",
       "Loan/No Loan                  0.0\n",
       "Home Status_NONE              0.0\n",
       "Home Status_OTHER             0.0\n",
       "Home Status_OWN               0.0\n",
       "Home Status_REN?              0.0\n",
       "Validation_Source Verified    0.0\n",
       "Validation_Vfied              0.0\n",
       "dtype: float64"
      ]
     },
     "execution_count": 74,
     "metadata": {},
     "output_type": "execute_result"
    }
   ],
   "source": [
    "df.isnull().sum()/df.shape[0]*100"
   ]
  },
  {
   "cell_type": "markdown",
   "metadata": {
    "id": "ERzhNgHCvsWF"
   },
   "source": [
    "## 2 Exploratory Data Analyis"
   ]
  },
  {
   "cell_type": "markdown",
   "metadata": {
    "id": "o_2aPK62vsWF"
   },
   "source": [
    "In this section you can talk about the plots and the insights you have generated from the data\n",
    "\n",
    "\n",
    "\n",
    "\n",
    "\n",
    "\n",
    "\n",
    "\n",
    "\n",
    "\n",
    "\n",
    "\n",
    "\n",
    "\n",
    "\n",
    "\n",
    "\n",
    "\n",
    "\n",
    "\n",
    "\n",
    "\n",
    "\n"
   ]
  },
  {
   "cell_type": "code",
   "execution_count": 77,
   "metadata": {
    "id": "b-4ATJEIBAE1"
   },
   "outputs": [],
   "source": [
    "import matplotlib.pyplot as plt\n",
    "import seaborn as sns"
   ]
  },
  {
   "cell_type": "code",
   "execution_count": 78,
   "metadata": {
    "colab": {
     "base_uri": "https://localhost:8080/",
     "height": 1000
    },
    "id": "OyOPzJSeKEuC",
    "outputId": "5e541dd1-dc40-4a53-b0c3-dd6a20a193ed"
   },
   "outputs": [
    {
     "name": "stderr",
     "output_type": "stream",
     "text": [
      "C:\\SoftWareHouse\\Anaconda3.8\\lib\\site-packages\\seaborn\\_decorators.py:36: FutureWarning: Pass the following variable as a keyword arg: x. From version 0.12, the only valid positional argument will be `data`, and passing other arguments without an explicit keyword will result in an error or misinterpretation.\n",
      "  warnings.warn(\n"
     ]
    },
    {
     "data": {
      "image/png": "[encoded data removed]",
      "text/plain": [
       "<Figure size 432x288 with 1 Axes>"
      ]
     },
     "metadata": {
      "needs_background": "light"
     },
     "output_type": "display_data"
    },
    {
     "name": "stderr",
     "output_type": "stream",
     "text": [
      "C:\\SoftWareHouse\\Anaconda3.8\\lib\\site-packages\\seaborn\\_decorators.py:36: FutureWarning: Pass the following variable as a keyword arg: x. From version 0.12, the only valid positional argument will be `data`, and passing other arguments without an explicit keyword will result in an error or misinterpretation.\n",
      "  warnings.warn(\n"
     ]
    },
    {
     "data": {
      "image/png": "[encoded data removed]",
      "text/plain": [
       "<Figure size 432x288 with 1 Axes>"
      ]
     },
     "metadata": {
      "needs_background": "light"
     },
     "output_type": "display_data"
    },
    {
     "name": "stderr",
     "output_type": "stream",
     "text": [
      "C:\\SoftWareHouse\\Anaconda3.8\\lib\\site-packages\\seaborn\\_decorators.py:36: FutureWarning: Pass the following variable as a keyword arg: x. From version 0.12, the only valid positional argument will be `data`, and passing other arguments without an explicit keyword will result in an error or misinterpretation.\n",
      "  warnings.warn(\n"
     ]
    },
    {
     "data": {
      "image/png": "[encoded data removed]",
      "text/plain": [
       "<Figure size 432x288 with 1 Axes>"
      ]
     },
     "metadata": {
      "needs_background": "light"
     },
     "output_type": "display_data"
    },
    {
     "name": "stderr",
     "output_type": "stream",
     "text": [
      "C:\\SoftWareHouse\\Anaconda3.8\\lib\\site-packages\\seaborn\\_decorators.py:36: FutureWarning: Pass the following variable as a keyword arg: x. From version 0.12, the only valid positional argument will be `data`, and passing other arguments without an explicit keyword will result in an error or misinterpretation.\n",
      "  warnings.warn(\n"
     ]
    },
    {
     "data": {
      "image/png": "[encoded data removed]",
      "text/plain": [
       "<Figure size 432x288 with 1 Axes>"
      ]
     },
     "metadata": {
      "needs_background": "light"
     },
     "output_type": "display_data"
    },
    {
     "name": "stderr",
     "output_type": "stream",
     "text": [
      "C:\\SoftWareHouse\\Anaconda3.8\\lib\\site-packages\\seaborn\\_decorators.py:36: FutureWarning: Pass the following variable as a keyword arg: x. From version 0.12, the only valid positional argument will be `data`, and passing other arguments without an explicit keyword will result in an error or misinterpretation.\n",
      "  warnings.warn(\n"
     ]
    },
    {
     "data": {
      "image/png": "[encoded data removed]",
      "text/plain": [
       "<Figure size 432x288 with 1 Axes>"
      ]
     },
     "metadata": {
      "needs_background": "light"
     },
     "output_type": "display_data"
    },
    {
     "name": "stderr",
     "output_type": "stream",
     "text": [
      "C:\\SoftWareHouse\\Anaconda3.8\\lib\\site-packages\\seaborn\\_decorators.py:36: FutureWarning: Pass the following variable as a keyword arg: x. From version 0.12, the only valid positional argument will be `data`, and passing other arguments without an explicit keyword will result in an error or misinterpretation.\n",
      "  warnings.warn(\n"
     ]
    },
    {
     "data": {
      "image/png": "[encoded data removed]",
      "text/plain": [
       "<Figure size 432x288 with 1 Axes>"
      ]
     },
     "metadata": {
      "needs_background": "light"
     },
     "output_type": "display_data"
    },
    {
     "name": "stderr",
     "output_type": "stream",
     "text": [
      "C:\\SoftWareHouse\\Anaconda3.8\\lib\\site-packages\\seaborn\\_decorators.py:36: FutureWarning: Pass the following variable as a keyword arg: x. From version 0.12, the only valid positional argument will be `data`, and passing other arguments without an explicit keyword will result in an error or misinterpretation.\n",
      "  warnings.warn(\n"
     ]
    },
    {
     "data": {
      "image/png": "[encoded data removed]",
      "text/plain": [
       "<Figure size 432x288 with 1 Axes>"
      ]
     },
     "metadata": {
      "needs_background": "light"
     },
     "output_type": "display_data"
    },
    {
     "name": "stderr",
     "output_type": "stream",
     "text": [
      "C:\\SoftWareHouse\\Anaconda3.8\\lib\\site-packages\\seaborn\\_decorators.py:36: FutureWarning: Pass the following variable as a keyword arg: x. From version 0.12, the only valid positional argument will be `data`, and passing other arguments without an explicit keyword will result in an error or misinterpretation.\n",
      "  warnings.warn(\n"
     ]
    },
    {
     "data": {
      "image/png": "[encoded data removed]",
      "text/plain": [
       "<Figure size 432x288 with 1 Axes>"
      ]
     },
     "metadata": {
      "needs_background": "light"
     },
     "output_type": "display_data"
    },
    {
     "name": "stderr",
     "output_type": "stream",
     "text": [
      "C:\\SoftWareHouse\\Anaconda3.8\\lib\\site-packages\\seaborn\\_decorators.py:36: FutureWarning: Pass the following variable as a keyword arg: x. From version 0.12, the only valid positional argument will be `data`, and passing other arguments without an explicit keyword will result in an error or misinterpretation.\n",
      "  warnings.warn(\n"
     ]
    },
    {
     "data": {
      "image/png": "[encoded data removed]",
      "text/plain": [
       "<Figure size 432x288 with 1 Axes>"
      ]
     },
     "metadata": {
      "needs_background": "light"
     },
     "output_type": "display_data"
    },
    {
     "name": "stderr",
     "output_type": "stream",
     "text": [
      "C:\\SoftWareHouse\\Anaconda3.8\\lib\\site-packages\\seaborn\\_decorators.py:36: FutureWarning: Pass the following variable as a keyword arg: x. From version 0.12, the only valid positional argument will be `data`, and passing other arguments without an explicit keyword will result in an error or misinterpretation.\n",
      "  warnings.warn(\n"
     ]
    },
    {
     "data": {
      "image/png": "[encoded data removed]",
      "text/plain": [
       "<Figure size 432x288 with 1 Axes>"
      ]
     },
     "metadata": {
      "needs_background": "light"
     },
     "output_type": "display_data"
    },
    {
     "name": "stderr",
     "output_type": "stream",
     "text": [
      "C:\\SoftWareHouse\\Anaconda3.8\\lib\\site-packages\\seaborn\\_decorators.py:36: FutureWarning: Pass the following variable as a keyword arg: x. From version 0.12, the only valid positional argument will be `data`, and passing other arguments without an explicit keyword will result in an error or misinterpretation.\n",
      "  warnings.warn(\n"
     ]
    },
    {
     "data": {
      "image/png": "[encoded data removed]",
      "text/plain": [
       "<Figure size 432x288 with 1 Axes>"
      ]
     },
     "metadata": {
      "needs_background": "light"
     },
     "output_type": "display_data"
    },
    {
     "name": "stderr",
     "output_type": "stream",
     "text": [
      "C:\\SoftWareHouse\\Anaconda3.8\\lib\\site-packages\\seaborn\\_decorators.py:36: FutureWarning: Pass the following variable as a keyword arg: x. From version 0.12, the only valid positional argument will be `data`, and passing other arguments without an explicit keyword will result in an error or misinterpretation.\n",
      "  warnings.warn(\n"
     ]
    },
    {
     "data": {
      "image/png": "[encoded data removed]",
      "text/plain": [
       "<Figure size 432x288 with 1 Axes>"
      ]
     },
     "metadata": {
      "needs_background": "light"
     },
     "output_type": "display_data"
    },
    {
     "name": "stderr",
     "output_type": "stream",
     "text": [
      "C:\\SoftWareHouse\\Anaconda3.8\\lib\\site-packages\\seaborn\\_decorators.py:36: FutureWarning: Pass the following variable as a keyword arg: x. From version 0.12, the only valid positional argument will be `data`, and passing other arguments without an explicit keyword will result in an error or misinterpretation.\n",
      "  warnings.warn(\n"
     ]
    },
    {
     "data": {
      "image/png": "[encoded data removed]",
      "text/plain": [
       "<Figure size 432x288 with 1 Axes>"
      ]
     },
     "metadata": {
      "needs_background": "light"
     },
     "output_type": "display_data"
    },
    {
     "name": "stderr",
     "output_type": "stream",
     "text": [
      "C:\\SoftWareHouse\\Anaconda3.8\\lib\\site-packages\\seaborn\\_decorators.py:36: FutureWarning: Pass the following variable as a keyword arg: x. From version 0.12, the only valid positional argument will be `data`, and passing other arguments without an explicit keyword will result in an error or misinterpretation.\n",
      "  warnings.warn(\n"
     ]
    },
    {
     "data": {
      "image/png": "[encoded data removed]",
      "text/plain": [
       "<Figure size 432x288 with 1 Axes>"
      ]
     },
     "metadata": {
      "needs_background": "light"
     },
     "output_type": "display_data"
    },
    {
     "name": "stderr",
     "output_type": "stream",
     "text": [
      "C:\\SoftWareHouse\\Anaconda3.8\\lib\\site-packages\\seaborn\\_decorators.py:36: FutureWarning: Pass the following variable as a keyword arg: x. From version 0.12, the only valid positional argument will be `data`, and passing other arguments without an explicit keyword will result in an error or misinterpretation.\n",
      "  warnings.warn(\n"
     ]
    },
    {
     "data": {
      "image/png": "[encoded data removed]",
      "text/plain": [
       "<Figure size 432x288 with 1 Axes>"
      ]
     },
     "metadata": {
      "needs_background": "light"
     },
     "output_type": "display_data"
    },
    {
     "name": "stderr",
     "output_type": "stream",
     "text": [
      "C:\\SoftWareHouse\\Anaconda3.8\\lib\\site-packages\\seaborn\\_decorators.py:36: FutureWarning: Pass the following variable as a keyword arg: x. From version 0.12, the only valid positional argument will be `data`, and passing other arguments without an explicit keyword will result in an error or misinterpretation.\n",
      "  warnings.warn(\n"
     ]
    },
    {
     "data": {
      "image/png": "[encoded data removed]",
      "text/plain": [
       "<Figure size 432x288 with 1 Axes>"
      ]
     },
     "metadata": {
      "needs_background": "light"
     },
     "output_type": "display_data"
    },
    {
     "name": "stderr",
     "output_type": "stream",
     "text": [
      "C:\\SoftWareHouse\\Anaconda3.8\\lib\\site-packages\\seaborn\\_decorators.py:36: FutureWarning: Pass the following variable as a keyword arg: x. From version 0.12, the only valid positional argument will be `data`, and passing other arguments without an explicit keyword will result in an error or misinterpretation.\n",
      "  warnings.warn(\n"
     ]
    },
    {
     "data": {
      "image/png": "[encoded data removed]",
      "text/plain": [
       "<Figure size 432x288 with 1 Axes>"
      ]
     },
     "metadata": {
      "needs_background": "light"
     },
     "output_type": "display_data"
    },
    {
     "name": "stderr",
     "output_type": "stream",
     "text": [
      "C:\\SoftWareHouse\\Anaconda3.8\\lib\\site-packages\\seaborn\\_decorators.py:36: FutureWarning: Pass the following variable as a keyword arg: x. From version 0.12, the only valid positional argument will be `data`, and passing other arguments without an explicit keyword will result in an error or misinterpretation.\n",
      "  warnings.warn(\n"
     ]
    },
    {
     "data": {
      "image/png": "[encoded data removed]",
      "text/plain": [
       "<Figure size 432x288 with 1 Axes>"
      ]
     },
     "metadata": {
      "needs_background": "light"
     },
     "output_type": "display_data"
    },
    {
     "name": "stderr",
     "output_type": "stream",
     "text": [
      "C:\\SoftWareHouse\\Anaconda3.8\\lib\\site-packages\\seaborn\\_decorators.py:36: FutureWarning: Pass the following variable as a keyword arg: x. From version 0.12, the only valid positional argument will be `data`, and passing other arguments without an explicit keyword will result in an error or misinterpretation.\n",
      "  warnings.warn(\n"
     ]
    },
    {
     "data": {
      "image/png": "[encoded data removed]",
      "text/plain": [
       "<Figure size 432x288 with 1 Axes>"
      ]
     },
     "metadata": {
      "needs_background": "light"
     },
     "output_type": "display_data"
    },
    {
     "name": "stderr",
     "output_type": "stream",
     "text": [
      "C:\\SoftWareHouse\\Anaconda3.8\\lib\\site-packages\\seaborn\\_decorators.py:36: FutureWarning: Pass the following variable as a keyword arg: x. From version 0.12, the only valid positional argument will be `data`, and passing other arguments without an explicit keyword will result in an error or misinterpretation.\n",
      "  warnings.warn(\n"
     ]
    },
    {
     "data": {
      "image/png": "[encoded data removed]",
      "text/plain": [
       "<Figure size 432x288 with 1 Axes>"
      ]
     },
     "metadata": {
      "needs_background": "light"
     },
     "output_type": "display_data"
    }
   ],
   "source": [
    "for i in df_num.columns:\n",
    "    sns.boxplot(df[i])\n",
    "    plt.show( )"
   ]
  },
  {
   "cell_type": "markdown",
   "metadata": {
    "id": "FYErZfv_vsWG"
   },
   "source": [
    "## 3 Feature Engineering"
   ]
  },
  {
   "cell_type": "markdown",
   "metadata": {
    "id": "Aa1JT2IPvsWH"
   },
   "source": [
    "In this section you can implement the feature engineering techniques for dimensionality reduction\n",
    "\n",
    "\n",
    "\n",
    "\n",
    "\n",
    "\n",
    "\n",
    "\n",
    "\n",
    "\n"
   ]
  },
  {
   "cell_type": "code",
   "execution_count": 31,
   "metadata": {
    "colab": {
     "base_uri": "https://localhost:8080/"
    },
    "id": "ncKxCpPHKzs_",
    "outputId": "09f251db-2d5a-4a04-dabd-7ef0d3afa79a"
   },
   "outputs": [
    {
     "name": "stdout",
     "output_type": "stream",
     "text": [
      "<class 'pandas.core.frame.DataFrame'>\n",
      "RangeIndex: 87500 entries, 0 to 87499\n",
      "Data columns (total 27 columns):\n",
      " #   Column               Non-Null Count  Dtype  \n",
      "---  ------               --------------  -----  \n",
      " 0   ID                   87500 non-null  int64  \n",
      " 1   Asst_Reg             87500 non-null  int64  \n",
      " 2   GGGrade              87500 non-null  int64  \n",
      " 3   Experience           87500 non-null  float64\n",
      " 4   Yearly Income        87500 non-null  float64\n",
      " 5   Unpaid 2 years       87500 non-null  int64  \n",
      " 6   Already Defaulted    87500 non-null  int64  \n",
      " 7   Debt to Income       87500 non-null  float64\n",
      " 8   Postal Code          87500 non-null  float64\n",
      " 9   Lend Amount          87500 non-null  float64\n",
      " 10  Deprecatory Records  87500 non-null  int64  \n",
      " 11  Interest Charged     87500 non-null  float64\n",
      " 12  Usage Rate           87500 non-null  float64\n",
      " 13  Inquiries            87500 non-null  int64  \n",
      " 14  Present Balance      87500 non-null  float64\n",
      " 15  Gross Collection     87500 non-null  float64\n",
      " 16  Sub GGGrade          87500 non-null  int64  \n",
      " 17  File Status          87500 non-null  int64  \n",
      " 18  State                87500 non-null  int64  \n",
      " 19  Account Open         87500 non-null  int64  \n",
      " 20  Total Unpaid CL      87500 non-null  float64\n",
      " 21  Duration             87500 non-null  int64  \n",
      " 22  Unpaid Amount        87500 non-null  float64\n",
      " 23  Reason               87500 non-null  int64  \n",
      " 24  Claim Type           87500 non-null  int64  \n",
      " 25  Due Fee              87500 non-null  float64\n",
      " 26  Loan/No Loan         87500 non-null  int64  \n",
      "dtypes: float64(12), int64(15)\n",
      "memory usage: 18.0 MB\n"
     ]
    }
   ],
   "source": [
    "df.info()"
   ]
  },
  {
   "cell_type": "code",
   "execution_count": 17,
   "metadata": {
    "id": "UjdCkv-sKzqf"
   },
   "outputs": [],
   "source": []
  },
  {
   "cell_type": "code",
   "execution_count": null,
   "metadata": {
    "id": "ipiDBUVFKzmm"
   },
   "outputs": [],
   "source": []
  },
  {
   "cell_type": "markdown",
   "metadata": {
    "id": "tCUBv9SEvsWH"
   },
   "source": [
    "## 4 Modelling + HyperParameter Tuning"
   ]
  },
  {
   "cell_type": "markdown",
   "metadata": {
    "id": "YYP_wFotvsWI"
   },
   "source": [
    "In this you can build various ML models and try tuning the parameters involved to achieve better score"
   ]
  },
  {
   "cell_type": "markdown",
   "metadata": {
    "id": "_HOck39gvsWI"
   },
   "source": [
    "## Model 1"
   ]
  },
  {
   "cell_type": "code",
   "execution_count": 146,
   "metadata": {},
   "outputs": [],
   "source": [
    "df.drop(['ID'] , inplace = True , axis = 1)"
   ]
  },
  {
   "cell_type": "code",
   "execution_count": 147,
   "metadata": {},
   "outputs": [],
   "source": [
    "from sklearn.model_selection import train_test_split\n",
    "x = df.drop(['Loan/No Loan'] , axis = 1)\n",
    "y = df['Loan/No Loan']\n",
    "xtrain, xtest , ytrain , ytest = train_test_split(x , y , test_size = 0.2)"
   ]
  },
  {
   "cell_type": "code",
   "execution_count": 148,
   "metadata": {},
   "outputs": [],
   "source": [
    "from sklearn.linear_model import LogisticRegression\n",
    "from sklearn.preprocessing import StandardScaler"
   ]
  },
  {
   "cell_type": "code",
   "execution_count": 149,
   "metadata": {},
   "outputs": [],
   "source": [
    "sc = StandardScaler()\n",
    "lr = LogisticRegression()"
   ]
  },
  {
   "cell_type": "code",
   "execution_count": 150,
   "metadata": {},
   "outputs": [],
   "source": [
    "sxtrain = sc.fit_transform(xtrain)\n",
    "sxtest = sc.fit_transform(xtest)"
   ]
  },
  {
   "cell_type": "code",
   "execution_count": 151,
   "metadata": {},
   "outputs": [
    {
     "data": {
      "text/plain": [
       "LogisticRegression()"
      ]
     },
     "execution_count": 151,
     "metadata": {},
     "output_type": "execute_result"
    }
   ],
   "source": [
    "lr.fit(sxtrain , ytrain)"
   ]
  },
  {
   "cell_type": "code",
   "execution_count": 152,
   "metadata": {},
   "outputs": [],
   "source": [
    "sxtest = sc.fit_transform(xtest)"
   ]
  },
  {
   "cell_type": "code",
   "execution_count": 153,
   "metadata": {},
   "outputs": [],
   "source": [
    "pred = lr.predict(sxtest)"
   ]
  },
  {
   "cell_type": "code",
   "execution_count": 154,
   "metadata": {},
   "outputs": [],
   "source": [
    "from sklearn.metrics import confusion_matrix,classification_report,precision_score,recall_score,f1_score"
   ]
  },
  {
   "cell_type": "code",
   "execution_count": 155,
   "metadata": {},
   "outputs": [
    {
     "name": "stdout",
     "output_type": "stream",
     "text": [
      "              precision    recall  f1-score   support\n",
      "\n",
      "           0       0.86      0.95      0.90     14183\n",
      "           1       0.62      0.33      0.43      3317\n",
      "\n",
      "    accuracy                           0.83     17500\n",
      "   macro avg       0.74      0.64      0.67     17500\n",
      "weighted avg       0.81      0.83      0.81     17500\n",
      "\n"
     ]
    }
   ],
   "source": [
    "print(classification_report(ytest , pred))"
   ]
  },
  {
   "cell_type": "code",
   "execution_count": null,
   "metadata": {},
   "outputs": [],
   "source": []
  },
  {
   "cell_type": "code",
   "execution_count": null,
   "metadata": {},
   "outputs": [],
   "source": []
  },
  {
   "cell_type": "code",
   "execution_count": 123,
   "metadata": {
    "id": "F69ROoKgPZFi"
   },
   "outputs": [],
   "source": [
    "from sklearn.metrics import accuracy_score , f1_score"
   ]
  },
  {
   "cell_type": "markdown",
   "metadata": {
    "id": "0weLaup2vsWJ"
   },
   "source": [
    "## Model 2 - Best Model"
   ]
  },
  {
   "cell_type": "code",
   "execution_count": 175,
   "metadata": {
    "id": "tVVa1uNZvsWI"
   },
   "outputs": [],
   "source": [
    "from sklearn.tree import DecisionTreeClassifier\n",
    "clf=DecisionTreeClassifier(criterion='entropy',max_depth=2)"
   ]
  },
  {
   "cell_type": "code",
   "execution_count": 176,
   "metadata": {},
   "outputs": [],
   "source": [
    "from sklearn.model_selection import train_test_split\n",
    "x = df.drop(['Loan/No Loan'] , axis = 1)\n",
    "y = df['Loan/No Loan']\n",
    "xtrain, xtest , ytrain , ytest = train_test_split(x , y , test_size = 0.2)"
   ]
  },
  {
   "cell_type": "code",
   "execution_count": 177,
   "metadata": {
    "id": "UhfpEhcgPZKa"
   },
   "outputs": [],
   "source": [
    "clf=DecisionTreeClassifier(criterion='entropy',max_depth=2)\n",
    "clf=clf.fit(xtrain,ytrain)"
   ]
  },
  {
   "cell_type": "code",
   "execution_count": 178,
   "metadata": {},
   "outputs": [
    {
     "name": "stdout",
     "output_type": "stream",
     "text": [
      "              precision    recall  f1-score   support\n",
      "\n",
      "           0       0.85      0.97      0.90     14284\n",
      "           1       0.62      0.22      0.33      3216\n",
      "\n",
      "    accuracy                           0.83     17500\n",
      "   macro avg       0.73      0.60      0.62     17500\n",
      "weighted avg       0.81      0.83      0.80     17500\n",
      "\n"
     ]
    }
   ],
   "source": [
    "print(classification_report(ytest , clf.predict(xtest)))"
   ]
  },
  {
   "cell_type": "code",
   "execution_count": 179,
   "metadata": {},
   "outputs": [],
   "source": [
    "from sklearn.model_selection import GridSearchCV"
   ]
  },
  {
   "cell_type": "code",
   "execution_count": 182,
   "metadata": {},
   "outputs": [],
   "source": [
    "tuned_params = [{'criterion':['entropy' , 'gini'] , 'max_depth':range(2 , 10) , 'min_samples_split':range(2,10)}]"
   ]
  },
  {
   "cell_type": "code",
   "execution_count": 183,
   "metadata": {},
   "outputs": [
    {
     "data": {
      "text/plain": [
       "GridSearchCV(cv=5, estimator=DecisionTreeClassifier(random_state=10),\n",
       "             param_grid=[{'criterion': ['entropy', 'gini'],\n",
       "                          'max_depth': range(2, 10),\n",
       "                          'min_samples_split': range(2, 10)}])"
      ]
     },
     "execution_count": 183,
     "metadata": {},
     "output_type": "execute_result"
    }
   ],
   "source": [
    "dt = DecisionTreeClassifier(random_state = 10)\n",
    "tree_grid = GridSearchCV(estimator = dt , param_grid = tuned_params , cv = 5)\n",
    "tree_grid.fit(xtrain , ytrain)"
   ]
  },
  {
   "cell_type": "code",
   "execution_count": 184,
   "metadata": {},
   "outputs": [
    {
     "data": {
      "text/plain": [
       "{'criterion': 'entropy', 'max_depth': 6, 'min_samples_split': 2}"
      ]
     },
     "execution_count": 184,
     "metadata": {},
     "output_type": "execute_result"
    }
   ],
   "source": [
    "tree_grid.best_params_"
   ]
  },
  {
   "cell_type": "code",
   "execution_count": 198,
   "metadata": {},
   "outputs": [],
   "source": [
    "clf=DecisionTreeClassifier(criterion = 'entropy', max_depth =  6, min_samples_split =  2)"
   ]
  },
  {
   "cell_type": "code",
   "execution_count": 199,
   "metadata": {},
   "outputs": [],
   "source": [
    "clf=clf.fit(xtrain,ytrain)"
   ]
  },
  {
   "cell_type": "code",
   "execution_count": 188,
   "metadata": {
    "id": "GbW0v_NdvsWJ"
   },
   "outputs": [
    {
     "name": "stdout",
     "output_type": "stream",
     "text": [
      "              precision    recall  f1-score   support\n",
      "\n",
      "           0       0.84      0.99      0.91     14284\n",
      "           1       0.76      0.19      0.30      3216\n",
      "\n",
      "    accuracy                           0.84     17500\n",
      "   macro avg       0.80      0.59      0.61     17500\n",
      "weighted avg       0.83      0.84      0.80     17500\n",
      "\n"
     ]
    }
   ],
   "source": [
    "print(classification_report(ytest , clf.predict(xtest)))"
   ]
  },
  {
   "cell_type": "code",
   "execution_count": 201,
   "metadata": {},
   "outputs": [
    {
     "data": {
      "text/plain": [
       "array([0, 0, 0, ..., 0, 0, 0], dtype=int64)"
      ]
     },
     "execution_count": 201,
     "metadata": {},
     "output_type": "execute_result"
    }
   ],
   "source": [
    "pred = clf.predict(df1)\n",
    "pred"
   ]
  },
  {
   "cell_type": "code",
   "execution_count": 203,
   "metadata": {},
   "outputs": [
    {
     "data": {
      "text/html": [
       "<div>\n",
       "<style scoped>\n",
       "    .dataframe tbody tr th:only-of-type {\n",
       "        vertical-align: middle;\n",
       "    }\n",
       "\n",
       "    .dataframe tbody tr th {\n",
       "        vertical-align: top;\n",
       "    }\n",
       "\n",
       "    .dataframe thead th {\n",
       "        text-align: right;\n",
       "    }\n",
       "</style>\n",
       "<table border=\"1\" class=\"dataframe\">\n",
       "  <thead>\n",
       "    <tr style=\"text-align: right;\">\n",
       "      <th></th>\n",
       "      <th>Loan/No Loan</th>\n",
       "    </tr>\n",
       "    <tr>\n",
       "      <th>ID</th>\n",
       "      <th></th>\n",
       "    </tr>\n",
       "  </thead>\n",
       "  <tbody>\n",
       "    <tr>\n",
       "      <th>198980</th>\n",
       "      <td>0</td>\n",
       "    </tr>\n",
       "    <tr>\n",
       "      <th>167688</th>\n",
       "      <td>0</td>\n",
       "    </tr>\n",
       "    <tr>\n",
       "      <th>198768</th>\n",
       "      <td>0</td>\n",
       "    </tr>\n",
       "    <tr>\n",
       "      <th>192564</th>\n",
       "      <td>0</td>\n",
       "    </tr>\n",
       "    <tr>\n",
       "      <th>151199</th>\n",
       "      <td>0</td>\n",
       "    </tr>\n",
       "    <tr>\n",
       "      <th>...</th>\n",
       "      <td>...</td>\n",
       "    </tr>\n",
       "    <tr>\n",
       "      <th>191405</th>\n",
       "      <td>0</td>\n",
       "    </tr>\n",
       "    <tr>\n",
       "      <th>164868</th>\n",
       "      <td>0</td>\n",
       "    </tr>\n",
       "    <tr>\n",
       "      <th>163156</th>\n",
       "      <td>0</td>\n",
       "    </tr>\n",
       "    <tr>\n",
       "      <th>169610</th>\n",
       "      <td>0</td>\n",
       "    </tr>\n",
       "    <tr>\n",
       "      <th>175557</th>\n",
       "      <td>0</td>\n",
       "    </tr>\n",
       "  </tbody>\n",
       "</table>\n",
       "<p>37500 rows × 1 columns</p>\n",
       "</div>"
      ],
      "text/plain": [
       "        Loan/No Loan\n",
       "ID                  \n",
       "198980             0\n",
       "167688             0\n",
       "198768             0\n",
       "192564             0\n",
       "151199             0\n",
       "...              ...\n",
       "191405             0\n",
       "164868             0\n",
       "163156             0\n",
       "169610             0\n",
       "175557             0\n",
       "\n",
       "[37500 rows x 1 columns]"
      ]
     },
     "execution_count": 203,
     "metadata": {},
     "output_type": "execute_result"
    }
   ],
   "source": [
    "sub = pd.read_csv('C:/Users/Teja Lakkadasu/Desktop/GREAT LEARNING/Hackathon/Data_Test.csv')\n",
    "submittion_dt = pd.DataFrame(sub['ID'])\n",
    "submittion_dt.insert(1 ,'Loan/No Loan', pred)\n",
    "submittion_dt.set_index(['ID'])"
   ]
  },
  {
   "cell_type": "code",
   "execution_count": 207,
   "metadata": {},
   "outputs": [],
   "source": [
    "submittion_dt.set_index(['ID'] , inplace = True)"
   ]
  },
  {
   "cell_type": "code",
   "execution_count": 208,
   "metadata": {},
   "outputs": [],
   "source": [
    "submittion_dt.to_csv('sub_dec_tree.csv')"
   ]
  },
  {
   "cell_type": "markdown",
   "metadata": {
    "id": "AN-oMLmCvsWJ"
   },
   "source": [
    "## Model 3"
   ]
  },
  {
   "cell_type": "code",
   "execution_count": 143,
   "metadata": {},
   "outputs": [
    {
     "data": {
      "text/html": [
       "<div>\n",
       "<style scoped>\n",
       "    .dataframe tbody tr th:only-of-type {\n",
       "        vertical-align: middle;\n",
       "    }\n",
       "\n",
       "    .dataframe tbody tr th {\n",
       "        vertical-align: top;\n",
       "    }\n",
       "\n",
       "    .dataframe thead th {\n",
       "        text-align: right;\n",
       "    }\n",
       "</style>\n",
       "<table border=\"1\" class=\"dataframe\">\n",
       "  <thead>\n",
       "    <tr style=\"text-align: right;\">\n",
       "      <th></th>\n",
       "      <th>ID</th>\n",
       "      <th>Asst_Reg</th>\n",
       "      <th>GGGrade</th>\n",
       "      <th>Experience</th>\n",
       "      <th>Yearly Income</th>\n",
       "      <th>Unpaid 2 years</th>\n",
       "      <th>Already Defaulted</th>\n",
       "      <th>Debt to Income</th>\n",
       "      <th>Postal Code</th>\n",
       "      <th>Lend Amount</th>\n",
       "      <th>...</th>\n",
       "      <th>Unpaid Amount</th>\n",
       "      <th>Reason</th>\n",
       "      <th>Claim Type</th>\n",
       "      <th>Due Fee</th>\n",
       "      <th>Home Status_NONE</th>\n",
       "      <th>Home Status_OTHER</th>\n",
       "      <th>Home Status_OWN</th>\n",
       "      <th>Home Status_REN?</th>\n",
       "      <th>Validation_Source Verified</th>\n",
       "      <th>Validation_Vfied</th>\n",
       "    </tr>\n",
       "  </thead>\n",
       "  <tbody>\n",
       "    <tr>\n",
       "      <th>0</th>\n",
       "      <td>198980</td>\n",
       "      <td>1773284</td>\n",
       "      <td>2</td>\n",
       "      <td>2.0</td>\n",
       "      <td>140800.00</td>\n",
       "      <td>0</td>\n",
       "      <td>0</td>\n",
       "      <td>16.9176</td>\n",
       "      <td>90600.0</td>\n",
       "      <td>17955.00</td>\n",
       "      <td>...</td>\n",
       "      <td>15755.94</td>\n",
       "      <td>5</td>\n",
       "      <td>1</td>\n",
       "      <td>0.0</td>\n",
       "      <td>0</td>\n",
       "      <td>0</td>\n",
       "      <td>1</td>\n",
       "      <td>0</td>\n",
       "      <td>1</td>\n",
       "      <td>0</td>\n",
       "    </tr>\n",
       "    <tr>\n",
       "      <th>1</th>\n",
       "      <td>167688</td>\n",
       "      <td>5298273</td>\n",
       "      <td>2</td>\n",
       "      <td>10.0</td>\n",
       "      <td>146080.00</td>\n",
       "      <td>0</td>\n",
       "      <td>0</td>\n",
       "      <td>28.6944</td>\n",
       "      <td>32300.0</td>\n",
       "      <td>59850.00</td>\n",
       "      <td>...</td>\n",
       "      <td>68237.55</td>\n",
       "      <td>2</td>\n",
       "      <td>1</td>\n",
       "      <td>0.0</td>\n",
       "      <td>0</td>\n",
       "      <td>0</td>\n",
       "      <td>0</td>\n",
       "      <td>0</td>\n",
       "      <td>0</td>\n",
       "      <td>1</td>\n",
       "    </tr>\n",
       "    <tr>\n",
       "      <th>2</th>\n",
       "      <td>198768</td>\n",
       "      <td>189781</td>\n",
       "      <td>6</td>\n",
       "      <td>10.0</td>\n",
       "      <td>202222.24</td>\n",
       "      <td>0</td>\n",
       "      <td>0</td>\n",
       "      <td>51.1560</td>\n",
       "      <td>88000.0</td>\n",
       "      <td>59850.00</td>\n",
       "      <td>...</td>\n",
       "      <td>66272.76</td>\n",
       "      <td>2</td>\n",
       "      <td>1</td>\n",
       "      <td>0.0</td>\n",
       "      <td>0</td>\n",
       "      <td>0</td>\n",
       "      <td>0</td>\n",
       "      <td>0</td>\n",
       "      <td>0</td>\n",
       "      <td>1</td>\n",
       "    </tr>\n",
       "    <tr>\n",
       "      <th>3</th>\n",
       "      <td>192564</td>\n",
       "      <td>1530906</td>\n",
       "      <td>2</td>\n",
       "      <td>10.0</td>\n",
       "      <td>105600.00</td>\n",
       "      <td>1</td>\n",
       "      <td>0</td>\n",
       "      <td>27.0144</td>\n",
       "      <td>19900.0</td>\n",
       "      <td>19323.00</td>\n",
       "      <td>...</td>\n",
       "      <td>15595.20</td>\n",
       "      <td>1</td>\n",
       "      <td>1</td>\n",
       "      <td>0.0</td>\n",
       "      <td>0</td>\n",
       "      <td>0</td>\n",
       "      <td>0</td>\n",
       "      <td>0</td>\n",
       "      <td>0</td>\n",
       "      <td>1</td>\n",
       "    </tr>\n",
       "    <tr>\n",
       "      <th>4</th>\n",
       "      <td>151199</td>\n",
       "      <td>4410316</td>\n",
       "      <td>3</td>\n",
       "      <td>4.0</td>\n",
       "      <td>151360.00</td>\n",
       "      <td>0</td>\n",
       "      <td>0</td>\n",
       "      <td>10.3824</td>\n",
       "      <td>34900.0</td>\n",
       "      <td>25350.75</td>\n",
       "      <td>...</td>\n",
       "      <td>8850.96</td>\n",
       "      <td>2</td>\n",
       "      <td>1</td>\n",
       "      <td>0.0</td>\n",
       "      <td>0</td>\n",
       "      <td>0</td>\n",
       "      <td>0</td>\n",
       "      <td>0</td>\n",
       "      <td>0</td>\n",
       "      <td>0</td>\n",
       "    </tr>\n",
       "  </tbody>\n",
       "</table>\n",
       "<p>5 rows × 32 columns</p>\n",
       "</div>"
      ],
      "text/plain": [
       "       ID  Asst_Reg  GGGrade  Experience  Yearly Income  Unpaid 2 years  \\\n",
       "0  198980   1773284        2         2.0      140800.00               0   \n",
       "1  167688   5298273        2        10.0      146080.00               0   \n",
       "2  198768    189781        6        10.0      202222.24               0   \n",
       "3  192564   1530906        2        10.0      105600.00               1   \n",
       "4  151199   4410316        3         4.0      151360.00               0   \n",
       "\n",
       "   Already Defaulted  Debt to Income  Postal Code  Lend Amount  ...  \\\n",
       "0                  0         16.9176      90600.0     17955.00  ...   \n",
       "1                  0         28.6944      32300.0     59850.00  ...   \n",
       "2                  0         51.1560      88000.0     59850.00  ...   \n",
       "3                  0         27.0144      19900.0     19323.00  ...   \n",
       "4                  0         10.3824      34900.0     25350.75  ...   \n",
       "\n",
       "   Unpaid Amount  Reason  Claim Type  Due Fee  Home Status_NONE  \\\n",
       "0       15755.94       5           1      0.0                 0   \n",
       "1       68237.55       2           1      0.0                 0   \n",
       "2       66272.76       2           1      0.0                 0   \n",
       "3       15595.20       1           1      0.0                 0   \n",
       "4        8850.96       2           1      0.0                 0   \n",
       "\n",
       "   Home Status_OTHER  Home Status_OWN  Home Status_REN?  \\\n",
       "0                  0                1                 0   \n",
       "1                  0                0                 0   \n",
       "2                  0                0                 0   \n",
       "3                  0                0                 0   \n",
       "4                  0                0                 0   \n",
       "\n",
       "   Validation_Source Verified  Validation_Vfied  \n",
       "0                           1                 0  \n",
       "1                           0                 1  \n",
       "2                           0                 1  \n",
       "3                           0                 1  \n",
       "4                           0                 0  \n",
       "\n",
       "[5 rows x 32 columns]"
      ]
     },
     "execution_count": 143,
     "metadata": {},
     "output_type": "execute_result"
    }
   ],
   "source": [
    "df1.head()"
   ]
  },
  {
   "cell_type": "code",
   "execution_count": 157,
   "metadata": {},
   "outputs": [
    {
     "data": {
      "text/html": [
       "<div>\n",
       "<style scoped>\n",
       "    .dataframe tbody tr th:only-of-type {\n",
       "        vertical-align: middle;\n",
       "    }\n",
       "\n",
       "    .dataframe tbody tr th {\n",
       "        vertical-align: top;\n",
       "    }\n",
       "\n",
       "    .dataframe thead th {\n",
       "        text-align: right;\n",
       "    }\n",
       "</style>\n",
       "<table border=\"1\" class=\"dataframe\">\n",
       "  <thead>\n",
       "    <tr style=\"text-align: right;\">\n",
       "      <th></th>\n",
       "      <th>Asst_Reg</th>\n",
       "      <th>GGGrade</th>\n",
       "      <th>Experience</th>\n",
       "      <th>Yearly Income</th>\n",
       "      <th>Unpaid 2 years</th>\n",
       "      <th>Already Defaulted</th>\n",
       "      <th>Debt to Income</th>\n",
       "      <th>Postal Code</th>\n",
       "      <th>Lend Amount</th>\n",
       "      <th>Deprecatory Records</th>\n",
       "      <th>...</th>\n",
       "      <th>Reason</th>\n",
       "      <th>Claim Type</th>\n",
       "      <th>Due Fee</th>\n",
       "      <th>Loan/No Loan</th>\n",
       "      <th>Home Status_NONE</th>\n",
       "      <th>Home Status_OTHER</th>\n",
       "      <th>Home Status_OWN</th>\n",
       "      <th>Home Status_REN?</th>\n",
       "      <th>Validation_Source Verified</th>\n",
       "      <th>Validation_Vfied</th>\n",
       "    </tr>\n",
       "  </thead>\n",
       "  <tbody>\n",
       "    <tr>\n",
       "      <th>0</th>\n",
       "      <td>421802</td>\n",
       "      <td>2</td>\n",
       "      <td>10.0</td>\n",
       "      <td>633600.00</td>\n",
       "      <td>0</td>\n",
       "      <td>0</td>\n",
       "      <td>12.5496</td>\n",
       "      <td>91300.0</td>\n",
       "      <td>42023.25</td>\n",
       "      <td>0</td>\n",
       "      <td>...</td>\n",
       "      <td>2</td>\n",
       "      <td>1</td>\n",
       "      <td>0.0</td>\n",
       "      <td>0</td>\n",
       "      <td>0</td>\n",
       "      <td>0</td>\n",
       "      <td>0</td>\n",
       "      <td>0</td>\n",
       "      <td>0</td>\n",
       "      <td>1</td>\n",
       "    </tr>\n",
       "    <tr>\n",
       "      <th>1</th>\n",
       "      <td>3964312</td>\n",
       "      <td>4</td>\n",
       "      <td>7.0</td>\n",
       "      <td>85483.20</td>\n",
       "      <td>0</td>\n",
       "      <td>0</td>\n",
       "      <td>9.0048</td>\n",
       "      <td>27400.0</td>\n",
       "      <td>38133.00</td>\n",
       "      <td>0</td>\n",
       "      <td>...</td>\n",
       "      <td>2</td>\n",
       "      <td>1</td>\n",
       "      <td>0.0</td>\n",
       "      <td>0</td>\n",
       "      <td>0</td>\n",
       "      <td>0</td>\n",
       "      <td>0</td>\n",
       "      <td>1</td>\n",
       "      <td>1</td>\n",
       "      <td>0</td>\n",
       "    </tr>\n",
       "    <tr>\n",
       "      <th>2</th>\n",
       "      <td>4247560</td>\n",
       "      <td>3</td>\n",
       "      <td>0.5</td>\n",
       "      <td>79200.00</td>\n",
       "      <td>0</td>\n",
       "      <td>0</td>\n",
       "      <td>24.9144</td>\n",
       "      <td>32800.0</td>\n",
       "      <td>17100.00</td>\n",
       "      <td>0</td>\n",
       "      <td>...</td>\n",
       "      <td>5</td>\n",
       "      <td>1</td>\n",
       "      <td>0.0</td>\n",
       "      <td>0</td>\n",
       "      <td>0</td>\n",
       "      <td>0</td>\n",
       "      <td>0</td>\n",
       "      <td>1</td>\n",
       "      <td>1</td>\n",
       "      <td>0</td>\n",
       "    </tr>\n",
       "    <tr>\n",
       "      <th>3</th>\n",
       "      <td>197179</td>\n",
       "      <td>3</td>\n",
       "      <td>0.5</td>\n",
       "      <td>61600.00</td>\n",
       "      <td>0</td>\n",
       "      <td>0</td>\n",
       "      <td>16.5816</td>\n",
       "      <td>7000.0</td>\n",
       "      <td>5130.00</td>\n",
       "      <td>0</td>\n",
       "      <td>...</td>\n",
       "      <td>5</td>\n",
       "      <td>1</td>\n",
       "      <td>0.0</td>\n",
       "      <td>1</td>\n",
       "      <td>0</td>\n",
       "      <td>0</td>\n",
       "      <td>0</td>\n",
       "      <td>1</td>\n",
       "      <td>0</td>\n",
       "      <td>1</td>\n",
       "    </tr>\n",
       "    <tr>\n",
       "      <th>4</th>\n",
       "      <td>4646684</td>\n",
       "      <td>5</td>\n",
       "      <td>2.0</td>\n",
       "      <td>68053.92</td>\n",
       "      <td>0</td>\n",
       "      <td>0</td>\n",
       "      <td>40.0512</td>\n",
       "      <td>70800.0</td>\n",
       "      <td>19665.00</td>\n",
       "      <td>0</td>\n",
       "      <td>...</td>\n",
       "      <td>2</td>\n",
       "      <td>1</td>\n",
       "      <td>0.0</td>\n",
       "      <td>0</td>\n",
       "      <td>0</td>\n",
       "      <td>0</td>\n",
       "      <td>0</td>\n",
       "      <td>1</td>\n",
       "      <td>1</td>\n",
       "      <td>0</td>\n",
       "    </tr>\n",
       "  </tbody>\n",
       "</table>\n",
       "<p>5 rows × 32 columns</p>\n",
       "</div>"
      ],
      "text/plain": [
       "   Asst_Reg  GGGrade  Experience  Yearly Income  Unpaid 2 years  \\\n",
       "0    421802        2        10.0      633600.00               0   \n",
       "1   3964312        4         7.0       85483.20               0   \n",
       "2   4247560        3         0.5       79200.00               0   \n",
       "3    197179        3         0.5       61600.00               0   \n",
       "4   4646684        5         2.0       68053.92               0   \n",
       "\n",
       "   Already Defaulted  Debt to Income  Postal Code  Lend Amount  \\\n",
       "0                  0         12.5496      91300.0     42023.25   \n",
       "1                  0          9.0048      27400.0     38133.00   \n",
       "2                  0         24.9144      32800.0     17100.00   \n",
       "3                  0         16.5816       7000.0      5130.00   \n",
       "4                  0         40.0512      70800.0     19665.00   \n",
       "\n",
       "   Deprecatory Records  ...  Reason  Claim Type  Due Fee  Loan/No Loan  \\\n",
       "0                    0  ...       2           1      0.0             0   \n",
       "1                    0  ...       2           1      0.0             0   \n",
       "2                    0  ...       5           1      0.0             0   \n",
       "3                    0  ...       5           1      0.0             1   \n",
       "4                    0  ...       2           1      0.0             0   \n",
       "\n",
       "   Home Status_NONE  Home Status_OTHER  Home Status_OWN  Home Status_REN?  \\\n",
       "0                 0                  0                0                 0   \n",
       "1                 0                  0                0                 1   \n",
       "2                 0                  0                0                 1   \n",
       "3                 0                  0                0                 1   \n",
       "4                 0                  0                0                 1   \n",
       "\n",
       "   Validation_Source Verified  Validation_Vfied  \n",
       "0                           0                 1  \n",
       "1                           1                 0  \n",
       "2                           1                 0  \n",
       "3                           0                 1  \n",
       "4                           1                 0  \n",
       "\n",
       "[5 rows x 32 columns]"
      ]
     },
     "execution_count": 157,
     "metadata": {},
     "output_type": "execute_result"
    }
   ],
   "source": [
    "df.head()"
   ]
  },
  {
   "cell_type": "code",
   "execution_count": null,
   "metadata": {},
   "outputs": [],
   "source": []
  },
  {
   "cell_type": "code",
   "execution_count": 200,
   "metadata": {},
   "outputs": [
    {
     "data": {
      "text/html": [
       "<div>\n",
       "<style scoped>\n",
       "    .dataframe tbody tr th:only-of-type {\n",
       "        vertical-align: middle;\n",
       "    }\n",
       "\n",
       "    .dataframe tbody tr th {\n",
       "        vertical-align: top;\n",
       "    }\n",
       "\n",
       "    .dataframe thead th {\n",
       "        text-align: right;\n",
       "    }\n",
       "</style>\n",
       "<table border=\"1\" class=\"dataframe\">\n",
       "  <thead>\n",
       "    <tr style=\"text-align: right;\">\n",
       "      <th></th>\n",
       "      <th>Asst_Reg</th>\n",
       "      <th>GGGrade</th>\n",
       "      <th>Experience</th>\n",
       "      <th>Yearly Income</th>\n",
       "      <th>Unpaid 2 years</th>\n",
       "      <th>Already Defaulted</th>\n",
       "      <th>Debt to Income</th>\n",
       "      <th>Postal Code</th>\n",
       "      <th>Lend Amount</th>\n",
       "      <th>Deprecatory Records</th>\n",
       "      <th>...</th>\n",
       "      <th>Unpaid Amount</th>\n",
       "      <th>Reason</th>\n",
       "      <th>Claim Type</th>\n",
       "      <th>Due Fee</th>\n",
       "      <th>Home Status_NONE</th>\n",
       "      <th>Home Status_OTHER</th>\n",
       "      <th>Home Status_OWN</th>\n",
       "      <th>Home Status_REN?</th>\n",
       "      <th>Validation_Source Verified</th>\n",
       "      <th>Validation_Vfied</th>\n",
       "    </tr>\n",
       "  </thead>\n",
       "  <tbody>\n",
       "    <tr>\n",
       "      <th>0</th>\n",
       "      <td>1773284</td>\n",
       "      <td>2</td>\n",
       "      <td>2.0</td>\n",
       "      <td>140800.00</td>\n",
       "      <td>0</td>\n",
       "      <td>0</td>\n",
       "      <td>16.9176</td>\n",
       "      <td>90600.0</td>\n",
       "      <td>17955.00</td>\n",
       "      <td>0</td>\n",
       "      <td>...</td>\n",
       "      <td>15755.94</td>\n",
       "      <td>5</td>\n",
       "      <td>1</td>\n",
       "      <td>0.0</td>\n",
       "      <td>0</td>\n",
       "      <td>0</td>\n",
       "      <td>1</td>\n",
       "      <td>0</td>\n",
       "      <td>1</td>\n",
       "      <td>0</td>\n",
       "    </tr>\n",
       "    <tr>\n",
       "      <th>1</th>\n",
       "      <td>5298273</td>\n",
       "      <td>2</td>\n",
       "      <td>10.0</td>\n",
       "      <td>146080.00</td>\n",
       "      <td>0</td>\n",
       "      <td>0</td>\n",
       "      <td>28.6944</td>\n",
       "      <td>32300.0</td>\n",
       "      <td>59850.00</td>\n",
       "      <td>0</td>\n",
       "      <td>...</td>\n",
       "      <td>68237.55</td>\n",
       "      <td>2</td>\n",
       "      <td>1</td>\n",
       "      <td>0.0</td>\n",
       "      <td>0</td>\n",
       "      <td>0</td>\n",
       "      <td>0</td>\n",
       "      <td>0</td>\n",
       "      <td>0</td>\n",
       "      <td>1</td>\n",
       "    </tr>\n",
       "    <tr>\n",
       "      <th>2</th>\n",
       "      <td>189781</td>\n",
       "      <td>6</td>\n",
       "      <td>10.0</td>\n",
       "      <td>202222.24</td>\n",
       "      <td>0</td>\n",
       "      <td>0</td>\n",
       "      <td>51.1560</td>\n",
       "      <td>88000.0</td>\n",
       "      <td>59850.00</td>\n",
       "      <td>0</td>\n",
       "      <td>...</td>\n",
       "      <td>66272.76</td>\n",
       "      <td>2</td>\n",
       "      <td>1</td>\n",
       "      <td>0.0</td>\n",
       "      <td>0</td>\n",
       "      <td>0</td>\n",
       "      <td>0</td>\n",
       "      <td>0</td>\n",
       "      <td>0</td>\n",
       "      <td>1</td>\n",
       "    </tr>\n",
       "    <tr>\n",
       "      <th>3</th>\n",
       "      <td>1530906</td>\n",
       "      <td>2</td>\n",
       "      <td>10.0</td>\n",
       "      <td>105600.00</td>\n",
       "      <td>1</td>\n",
       "      <td>0</td>\n",
       "      <td>27.0144</td>\n",
       "      <td>19900.0</td>\n",
       "      <td>19323.00</td>\n",
       "      <td>0</td>\n",
       "      <td>...</td>\n",
       "      <td>15595.20</td>\n",
       "      <td>1</td>\n",
       "      <td>1</td>\n",
       "      <td>0.0</td>\n",
       "      <td>0</td>\n",
       "      <td>0</td>\n",
       "      <td>0</td>\n",
       "      <td>0</td>\n",
       "      <td>0</td>\n",
       "      <td>1</td>\n",
       "    </tr>\n",
       "    <tr>\n",
       "      <th>4</th>\n",
       "      <td>4410316</td>\n",
       "      <td>3</td>\n",
       "      <td>4.0</td>\n",
       "      <td>151360.00</td>\n",
       "      <td>0</td>\n",
       "      <td>0</td>\n",
       "      <td>10.3824</td>\n",
       "      <td>34900.0</td>\n",
       "      <td>25350.75</td>\n",
       "      <td>1</td>\n",
       "      <td>...</td>\n",
       "      <td>8850.96</td>\n",
       "      <td>2</td>\n",
       "      <td>1</td>\n",
       "      <td>0.0</td>\n",
       "      <td>0</td>\n",
       "      <td>0</td>\n",
       "      <td>0</td>\n",
       "      <td>0</td>\n",
       "      <td>0</td>\n",
       "      <td>0</td>\n",
       "    </tr>\n",
       "  </tbody>\n",
       "</table>\n",
       "<p>5 rows × 31 columns</p>\n",
       "</div>"
      ],
      "text/plain": [
       "   Asst_Reg  GGGrade  Experience  Yearly Income  Unpaid 2 years  \\\n",
       "0   1773284        2         2.0      140800.00               0   \n",
       "1   5298273        2        10.0      146080.00               0   \n",
       "2    189781        6        10.0      202222.24               0   \n",
       "3   1530906        2        10.0      105600.00               1   \n",
       "4   4410316        3         4.0      151360.00               0   \n",
       "\n",
       "   Already Defaulted  Debt to Income  Postal Code  Lend Amount  \\\n",
       "0                  0         16.9176      90600.0     17955.00   \n",
       "1                  0         28.6944      32300.0     59850.00   \n",
       "2                  0         51.1560      88000.0     59850.00   \n",
       "3                  0         27.0144      19900.0     19323.00   \n",
       "4                  0         10.3824      34900.0     25350.75   \n",
       "\n",
       "   Deprecatory Records  ...  Unpaid Amount  Reason  Claim Type  Due Fee  \\\n",
       "0                    0  ...       15755.94       5           1      0.0   \n",
       "1                    0  ...       68237.55       2           1      0.0   \n",
       "2                    0  ...       66272.76       2           1      0.0   \n",
       "3                    0  ...       15595.20       1           1      0.0   \n",
       "4                    1  ...        8850.96       2           1      0.0   \n",
       "\n",
       "   Home Status_NONE  Home Status_OTHER  Home Status_OWN  Home Status_REN?  \\\n",
       "0                 0                  0                1                 0   \n",
       "1                 0                  0                0                 0   \n",
       "2                 0                  0                0                 0   \n",
       "3                 0                  0                0                 0   \n",
       "4                 0                  0                0                 0   \n",
       "\n",
       "   Validation_Source Verified  Validation_Vfied  \n",
       "0                           1                 0  \n",
       "1                           0                 1  \n",
       "2                           0                 1  \n",
       "3                           0                 1  \n",
       "4                           0                 0  \n",
       "\n",
       "[5 rows x 31 columns]"
      ]
     },
     "execution_count": 200,
     "metadata": {},
     "output_type": "execute_result"
    }
   ],
   "source": [
    "df1.head()"
   ]
  },
  {
   "cell_type": "code",
   "execution_count": 158,
   "metadata": {},
   "outputs": [],
   "source": [
    "df1.drop(['ID'] , axis = 1 , inplace = True)"
   ]
  },
  {
   "cell_type": "code",
   "execution_count": 159,
   "metadata": {},
   "outputs": [],
   "source": [
    "op = sc.fit_transform(df1)\n",
    "pred1 = lr.predict(op)"
   ]
  },
  {
   "cell_type": "code",
   "execution_count": 160,
   "metadata": {},
   "outputs": [
    {
     "data": {
      "text/plain": [
       "array([0, 0, 0, ..., 1, 0, 0], dtype=int64)"
      ]
     },
     "execution_count": 160,
     "metadata": {},
     "output_type": "execute_result"
    }
   ],
   "source": [
    "pred1"
   ]
  },
  {
   "cell_type": "code",
   "execution_count": 164,
   "metadata": {},
   "outputs": [],
   "source": [
    "sub = pd.read_csv('C:/Users/Teja Lakkadasu/Desktop/GREAT LEARNING/Hackathon/Data_Test.csv')\n",
    "sub_df = pd.DataFrame(sub['ID'])"
   ]
  },
  {
   "cell_type": "code",
   "execution_count": 165,
   "metadata": {},
   "outputs": [],
   "source": [
    "sub_df.insert(1 , 'Loan/No Loan' , pred1)"
   ]
  },
  {
   "cell_type": "code",
   "execution_count": 171,
   "metadata": {},
   "outputs": [],
   "source": [
    "sub_df.set_index(['ID'] , inplace = True)"
   ]
  },
  {
   "cell_type": "code",
   "execution_count": 173,
   "metadata": {},
   "outputs": [],
   "source": [
    "sub_df.to_csv('submittion_file.csv')"
   ]
  },
  {
   "cell_type": "code",
   "execution_count": 191,
   "metadata": {},
   "outputs": [
    {
     "data": {
      "text/html": [
       "<div>\n",
       "<style scoped>\n",
       "    .dataframe tbody tr th:only-of-type {\n",
       "        vertical-align: middle;\n",
       "    }\n",
       "\n",
       "    .dataframe tbody tr th {\n",
       "        vertical-align: top;\n",
       "    }\n",
       "\n",
       "    .dataframe thead th {\n",
       "        text-align: right;\n",
       "    }\n",
       "</style>\n",
       "<table border=\"1\" class=\"dataframe\">\n",
       "  <thead>\n",
       "    <tr style=\"text-align: right;\">\n",
       "      <th></th>\n",
       "      <th>Loan/No Loan</th>\n",
       "    </tr>\n",
       "    <tr>\n",
       "      <th>ID</th>\n",
       "      <th></th>\n",
       "    </tr>\n",
       "  </thead>\n",
       "  <tbody>\n",
       "    <tr>\n",
       "      <th>198980</th>\n",
       "      <td>0</td>\n",
       "    </tr>\n",
       "    <tr>\n",
       "      <th>167688</th>\n",
       "      <td>0</td>\n",
       "    </tr>\n",
       "    <tr>\n",
       "      <th>198768</th>\n",
       "      <td>0</td>\n",
       "    </tr>\n",
       "    <tr>\n",
       "      <th>192564</th>\n",
       "      <td>1</td>\n",
       "    </tr>\n",
       "    <tr>\n",
       "      <th>151199</th>\n",
       "      <td>0</td>\n",
       "    </tr>\n",
       "    <tr>\n",
       "      <th>...</th>\n",
       "      <td>...</td>\n",
       "    </tr>\n",
       "    <tr>\n",
       "      <th>191405</th>\n",
       "      <td>0</td>\n",
       "    </tr>\n",
       "    <tr>\n",
       "      <th>164868</th>\n",
       "      <td>0</td>\n",
       "    </tr>\n",
       "    <tr>\n",
       "      <th>163156</th>\n",
       "      <td>1</td>\n",
       "    </tr>\n",
       "    <tr>\n",
       "      <th>169610</th>\n",
       "      <td>0</td>\n",
       "    </tr>\n",
       "    <tr>\n",
       "      <th>175557</th>\n",
       "      <td>0</td>\n",
       "    </tr>\n",
       "  </tbody>\n",
       "</table>\n",
       "<p>37500 rows × 1 columns</p>\n",
       "</div>"
      ],
      "text/plain": [
       "        Loan/No Loan\n",
       "ID                  \n",
       "198980             0\n",
       "167688             0\n",
       "198768             0\n",
       "192564             1\n",
       "151199             0\n",
       "...              ...\n",
       "191405             0\n",
       "164868             0\n",
       "163156             1\n",
       "169610             0\n",
       "175557             0\n",
       "\n",
       "[37500 rows x 1 columns]"
      ]
     },
     "execution_count": 191,
     "metadata": {},
     "output_type": "execute_result"
    }
   ],
   "source": [
    "sub_df"
   ]
  },
  {
   "cell_type": "code",
   "execution_count": null,
   "metadata": {},
   "outputs": [],
   "source": []
  }
 ],
 "metadata": {
  "colab": {
   "collapsed_sections": [],
   "name": "Reference_Jupyter_Notebook.ipynb",
   "provenance": []
  },
  "kernelspec": {
   "display_name": "Python 3",
   "language": "python",
   "name": "python3"
  },
  "language_info": {
   "codemirror_mode": {
    "name": "ipython",
    "version": 3
   },
   "file_extension": ".py",
   "mimetype": "text/x-python",
   "name": "python",
   "nbconvert_exporter": "python",
   "pygments_lexer": "ipython3",
   "version": "3.8.5"
  }
 },
 "nbformat": 4,
 "nbformat_minor": 5
}
